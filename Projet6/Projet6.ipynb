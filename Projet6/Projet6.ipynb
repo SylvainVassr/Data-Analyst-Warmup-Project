{
 "cells": [
  {
   "cell_type": "code",
   "execution_count": 5,
   "id": "58747dff-6a5a-411a-a3b8-bfe56e57efa9",
   "metadata": {},
   "outputs": [],
   "source": [
    "import pandas as pd\n",
    "import numpy as np\n",
    "from sklearn.preprocessing import StandardScaler\n",
    "from sklearn.decomposition import PCA\n",
    "import matplotlib.pyplot as plt\n",
    "import seaborn as sns"
   ]
  },
  {
   "cell_type": "code",
   "execution_count": 14,
   "id": "b7dd43a0-c734-499d-8007-f31ba4e6ce74",
   "metadata": {},
   "outputs": [
    {
     "data": {
      "text/html": [
       "<div>\n",
       "<style scoped>\n",
       "    .dataframe tbody tr th:only-of-type {\n",
       "        vertical-align: middle;\n",
       "    }\n",
       "\n",
       "    .dataframe tbody tr th {\n",
       "        vertical-align: top;\n",
       "    }\n",
       "\n",
       "    .dataframe thead th {\n",
       "        text-align: right;\n",
       "    }\n",
       "</style>\n",
       "<table border=\"1\" class=\"dataframe\">\n",
       "  <thead>\n",
       "    <tr style=\"text-align: right;\">\n",
       "      <th></th>\n",
       "      <th>fixed acidity</th>\n",
       "      <th>volatile acidity</th>\n",
       "      <th>citric acid</th>\n",
       "      <th>residual sugar</th>\n",
       "      <th>chlorides</th>\n",
       "      <th>free sulfur dioxide</th>\n",
       "      <th>total sulfur dioxide</th>\n",
       "      <th>density</th>\n",
       "      <th>pH</th>\n",
       "      <th>sulphates</th>\n",
       "      <th>alcohol</th>\n",
       "      <th>quality</th>\n",
       "    </tr>\n",
       "  </thead>\n",
       "  <tbody>\n",
       "    <tr>\n",
       "      <th>0</th>\n",
       "      <td>7.4</td>\n",
       "      <td>0.70</td>\n",
       "      <td>0.00</td>\n",
       "      <td>1.9</td>\n",
       "      <td>0.076</td>\n",
       "      <td>11.0</td>\n",
       "      <td>34.0</td>\n",
       "      <td>0.9978</td>\n",
       "      <td>3.51</td>\n",
       "      <td>0.56</td>\n",
       "      <td>9.4</td>\n",
       "      <td>5</td>\n",
       "    </tr>\n",
       "    <tr>\n",
       "      <th>1</th>\n",
       "      <td>7.8</td>\n",
       "      <td>0.88</td>\n",
       "      <td>0.00</td>\n",
       "      <td>2.6</td>\n",
       "      <td>0.098</td>\n",
       "      <td>25.0</td>\n",
       "      <td>67.0</td>\n",
       "      <td>0.9968</td>\n",
       "      <td>3.20</td>\n",
       "      <td>0.68</td>\n",
       "      <td>9.8</td>\n",
       "      <td>5</td>\n",
       "    </tr>\n",
       "    <tr>\n",
       "      <th>2</th>\n",
       "      <td>7.8</td>\n",
       "      <td>0.76</td>\n",
       "      <td>0.04</td>\n",
       "      <td>2.3</td>\n",
       "      <td>0.092</td>\n",
       "      <td>15.0</td>\n",
       "      <td>54.0</td>\n",
       "      <td>0.9970</td>\n",
       "      <td>3.26</td>\n",
       "      <td>0.65</td>\n",
       "      <td>9.8</td>\n",
       "      <td>5</td>\n",
       "    </tr>\n",
       "    <tr>\n",
       "      <th>3</th>\n",
       "      <td>11.2</td>\n",
       "      <td>0.28</td>\n",
       "      <td>0.56</td>\n",
       "      <td>1.9</td>\n",
       "      <td>0.075</td>\n",
       "      <td>17.0</td>\n",
       "      <td>60.0</td>\n",
       "      <td>0.9980</td>\n",
       "      <td>3.16</td>\n",
       "      <td>0.58</td>\n",
       "      <td>9.8</td>\n",
       "      <td>6</td>\n",
       "    </tr>\n",
       "    <tr>\n",
       "      <th>4</th>\n",
       "      <td>7.4</td>\n",
       "      <td>0.70</td>\n",
       "      <td>0.00</td>\n",
       "      <td>1.9</td>\n",
       "      <td>0.076</td>\n",
       "      <td>11.0</td>\n",
       "      <td>34.0</td>\n",
       "      <td>0.9978</td>\n",
       "      <td>3.51</td>\n",
       "      <td>0.56</td>\n",
       "      <td>9.4</td>\n",
       "      <td>5</td>\n",
       "    </tr>\n",
       "  </tbody>\n",
       "</table>\n",
       "</div>"
      ],
      "text/plain": [
       "   fixed acidity  volatile acidity  citric acid  residual sugar  chlorides  \\\n",
       "0            7.4              0.70         0.00             1.9      0.076   \n",
       "1            7.8              0.88         0.00             2.6      0.098   \n",
       "2            7.8              0.76         0.04             2.3      0.092   \n",
       "3           11.2              0.28         0.56             1.9      0.075   \n",
       "4            7.4              0.70         0.00             1.9      0.076   \n",
       "\n",
       "   free sulfur dioxide  total sulfur dioxide  density    pH  sulphates  \\\n",
       "0                 11.0                  34.0   0.9978  3.51       0.56   \n",
       "1                 25.0                  67.0   0.9968  3.20       0.68   \n",
       "2                 15.0                  54.0   0.9970  3.26       0.65   \n",
       "3                 17.0                  60.0   0.9980  3.16       0.58   \n",
       "4                 11.0                  34.0   0.9978  3.51       0.56   \n",
       "\n",
       "   alcohol  quality  \n",
       "0      9.4        5  \n",
       "1      9.8        5  \n",
       "2      9.8        5  \n",
       "3      9.8        6  \n",
       "4      9.4        5  "
      ]
     },
     "execution_count": 14,
     "metadata": {},
     "output_type": "execute_result"
    }
   ],
   "source": [
    "df_red = pd.read_csv(\"winequality-red.csv\", encoding='latin-1', sep=\";\")\n",
    "df_red_copy = df_red.copy()\n",
    "df_red.head()"
   ]
  },
  {
   "cell_type": "code",
   "execution_count": 15,
   "id": "9a936673-400d-4a46-98e2-c32831ffe96b",
   "metadata": {},
   "outputs": [
    {
     "data": {
      "text/html": [
       "<div>\n",
       "<style scoped>\n",
       "    .dataframe tbody tr th:only-of-type {\n",
       "        vertical-align: middle;\n",
       "    }\n",
       "\n",
       "    .dataframe tbody tr th {\n",
       "        vertical-align: top;\n",
       "    }\n",
       "\n",
       "    .dataframe thead th {\n",
       "        text-align: right;\n",
       "    }\n",
       "</style>\n",
       "<table border=\"1\" class=\"dataframe\">\n",
       "  <thead>\n",
       "    <tr style=\"text-align: right;\">\n",
       "      <th></th>\n",
       "      <th>fixed acidity</th>\n",
       "      <th>volatile acidity</th>\n",
       "      <th>citric acid</th>\n",
       "      <th>residual sugar</th>\n",
       "      <th>chlorides</th>\n",
       "      <th>free sulfur dioxide</th>\n",
       "      <th>total sulfur dioxide</th>\n",
       "      <th>density</th>\n",
       "      <th>pH</th>\n",
       "      <th>sulphates</th>\n",
       "      <th>alcohol</th>\n",
       "      <th>quality</th>\n",
       "    </tr>\n",
       "  </thead>\n",
       "  <tbody>\n",
       "    <tr>\n",
       "      <th>0</th>\n",
       "      <td>7.0</td>\n",
       "      <td>0.27</td>\n",
       "      <td>0.36</td>\n",
       "      <td>20.7</td>\n",
       "      <td>0.045</td>\n",
       "      <td>45.0</td>\n",
       "      <td>170.0</td>\n",
       "      <td>1.0010</td>\n",
       "      <td>3.00</td>\n",
       "      <td>0.45</td>\n",
       "      <td>8.8</td>\n",
       "      <td>6</td>\n",
       "    </tr>\n",
       "    <tr>\n",
       "      <th>1</th>\n",
       "      <td>6.3</td>\n",
       "      <td>0.30</td>\n",
       "      <td>0.34</td>\n",
       "      <td>1.6</td>\n",
       "      <td>0.049</td>\n",
       "      <td>14.0</td>\n",
       "      <td>132.0</td>\n",
       "      <td>0.9940</td>\n",
       "      <td>3.30</td>\n",
       "      <td>0.49</td>\n",
       "      <td>9.5</td>\n",
       "      <td>6</td>\n",
       "    </tr>\n",
       "    <tr>\n",
       "      <th>2</th>\n",
       "      <td>8.1</td>\n",
       "      <td>0.28</td>\n",
       "      <td>0.40</td>\n",
       "      <td>6.9</td>\n",
       "      <td>0.050</td>\n",
       "      <td>30.0</td>\n",
       "      <td>97.0</td>\n",
       "      <td>0.9951</td>\n",
       "      <td>3.26</td>\n",
       "      <td>0.44</td>\n",
       "      <td>10.1</td>\n",
       "      <td>6</td>\n",
       "    </tr>\n",
       "    <tr>\n",
       "      <th>3</th>\n",
       "      <td>7.2</td>\n",
       "      <td>0.23</td>\n",
       "      <td>0.32</td>\n",
       "      <td>8.5</td>\n",
       "      <td>0.058</td>\n",
       "      <td>47.0</td>\n",
       "      <td>186.0</td>\n",
       "      <td>0.9956</td>\n",
       "      <td>3.19</td>\n",
       "      <td>0.40</td>\n",
       "      <td>9.9</td>\n",
       "      <td>6</td>\n",
       "    </tr>\n",
       "    <tr>\n",
       "      <th>4</th>\n",
       "      <td>7.2</td>\n",
       "      <td>0.23</td>\n",
       "      <td>0.32</td>\n",
       "      <td>8.5</td>\n",
       "      <td>0.058</td>\n",
       "      <td>47.0</td>\n",
       "      <td>186.0</td>\n",
       "      <td>0.9956</td>\n",
       "      <td>3.19</td>\n",
       "      <td>0.40</td>\n",
       "      <td>9.9</td>\n",
       "      <td>6</td>\n",
       "    </tr>\n",
       "  </tbody>\n",
       "</table>\n",
       "</div>"
      ],
      "text/plain": [
       "   fixed acidity  volatile acidity  citric acid  residual sugar  chlorides  \\\n",
       "0            7.0              0.27         0.36            20.7      0.045   \n",
       "1            6.3              0.30         0.34             1.6      0.049   \n",
       "2            8.1              0.28         0.40             6.9      0.050   \n",
       "3            7.2              0.23         0.32             8.5      0.058   \n",
       "4            7.2              0.23         0.32             8.5      0.058   \n",
       "\n",
       "   free sulfur dioxide  total sulfur dioxide  density    pH  sulphates  \\\n",
       "0                 45.0                 170.0   1.0010  3.00       0.45   \n",
       "1                 14.0                 132.0   0.9940  3.30       0.49   \n",
       "2                 30.0                  97.0   0.9951  3.26       0.44   \n",
       "3                 47.0                 186.0   0.9956  3.19       0.40   \n",
       "4                 47.0                 186.0   0.9956  3.19       0.40   \n",
       "\n",
       "   alcohol  quality  \n",
       "0      8.8        6  \n",
       "1      9.5        6  \n",
       "2     10.1        6  \n",
       "3      9.9        6  \n",
       "4      9.9        6  "
      ]
     },
     "execution_count": 15,
     "metadata": {},
     "output_type": "execute_result"
    }
   ],
   "source": [
    "df_white = pd.read_csv(\"winequality-white.csv\", encoding='latin-1', sep=\";\")\n",
    "df_white_copy = df_white.copy()\n",
    "df_white.head()"
   ]
  },
  {
   "cell_type": "code",
   "execution_count": 16,
   "id": "52d00633-b992-48a8-8d75-e4b8224afb18",
   "metadata": {},
   "outputs": [
    {
     "data": {
      "image/png": "[encoded data removed]",
      "text/plain": [
       "<Figure size 800x500 with 1 Axes>"
      ]
     },
     "metadata": {},
     "output_type": "display_data"
    }
   ],
   "source": [
    "# --- 1. Standardisation des données ---\n",
    "X_scaled = StandardScaler().fit_transform(df_red) \n",
    "\n",
    "pca_full = PCA().fit(X_scaled)\n",
    "explained_variance = pca_full.explained_variance_ratio_\n",
    "\n",
    "# --- Calcul de la variance expliquée cumulée ---\n",
    "cumulative_variance = np.cumsum(explained_variance)\n",
    "\n",
    "# Ajouter un point 0 au début pour que l'axe des X commence à 0\n",
    "cumulative_variance = np.insert(cumulative_variance, 0, 0)\n",
    "\n",
    "# --- Graphique ---\n",
    "plt.figure(figsize=(8, 5))\n",
    "\n",
    "# Tracer la ligne sans points\n",
    "plt.plot(np.arange(0, len(cumulative_variance)), cumulative_variance, linestyle='--', color='b', zorder=1)\n",
    "\n",
    "# Ajouter des points uniquement pour les composantes supérieures à 0 (points au-dessus de la ligne)\n",
    "plt.scatter(np.arange(1, len(cumulative_variance)), cumulative_variance[1:], color='b', zorder=2)\n",
    "\n",
    "# Changer les ticks pour commencer à 1 sur l'axe des X\n",
    "plt.xticks(np.arange(1, len(explained_variance) + 1, step=1))\n",
    "\n",
    "# Ajuster les limites de l'axe Y pour qu'il commence bien à 0\n",
    "plt.ylim(bottom=0)\n",
    "\n",
    "# Ajuster aussi l'axe X pour commencer à 0\n",
    "plt.xlim(left=0)\n",
    "\n",
    "plt.xlabel('Nombre de composantes principales')\n",
    "plt.ylabel('Variance expliquée cumulée')\n",
    "plt.title('Scree plot (Éboulis des valeurs propres)')\n",
    "plt.grid(True)\n",
    "plt.axhline(y=0.8, color='r', linestyle='--', label='80% de variance')\n",
    "plt.legend()\n",
    "plt.tight_layout()\n",
    "plt.show()\n"
   ]
  },
  {
   "cell_type": "code",
   "execution_count": 32,
   "id": "0dfa6c39-4a0a-4ba6-bc70-6434547442a2",
   "metadata": {
    "scrolled": true
   },
   "outputs": [
    {
     "name": "stdout",
     "output_type": "stream",
     "text": [
      "📈 Variance expliquée par chaque composante :\n",
      "PC1: 0.282 (28.2%)\n",
      "PC2: 0.175 (17.5%)\n",
      "PC3: 0.141 (14.1%)\n",
      "PC4: 0.110 (11.0%)\n",
      "PC5: 0.087 (8.7%)\n"
     ]
    },
    {
     "data": {
      "text/html": [
       "<div>\n",
       "<style scoped>\n",
       "    .dataframe tbody tr th:only-of-type {\n",
       "        vertical-align: middle;\n",
       "    }\n",
       "\n",
       "    .dataframe tbody tr th {\n",
       "        vertical-align: top;\n",
       "    }\n",
       "\n",
       "    .dataframe thead th {\n",
       "        text-align: right;\n",
       "    }\n",
       "</style>\n",
       "<table border=\"1\" class=\"dataframe\">\n",
       "  <thead>\n",
       "    <tr style=\"text-align: right;\">\n",
       "      <th></th>\n",
       "      <th>Concentration Acide</th>\n",
       "      <th>Concentration en SO₂</th>\n",
       "      <th>Équilibre alcool-soufre</th>\n",
       "      <th>Charge minérale</th>\n",
       "      <th>Intensité sucrée</th>\n",
       "    </tr>\n",
       "  </thead>\n",
       "  <tbody>\n",
       "    <tr>\n",
       "      <th>fixed acidity</th>\n",
       "      <td>0.489314</td>\n",
       "      <td>-0.110503</td>\n",
       "      <td>-0.123302</td>\n",
       "      <td>-0.229617</td>\n",
       "      <td>-0.082614</td>\n",
       "    </tr>\n",
       "    <tr>\n",
       "      <th>volatile acidity</th>\n",
       "      <td>-0.238584</td>\n",
       "      <td>0.274930</td>\n",
       "      <td>-0.449963</td>\n",
       "      <td>0.078960</td>\n",
       "      <td>0.218735</td>\n",
       "    </tr>\n",
       "    <tr>\n",
       "      <th>citric acid</th>\n",
       "      <td>0.463632</td>\n",
       "      <td>-0.151791</td>\n",
       "      <td>0.238247</td>\n",
       "      <td>-0.079418</td>\n",
       "      <td>-0.058573</td>\n",
       "    </tr>\n",
       "    <tr>\n",
       "      <th>residual sugar</th>\n",
       "      <td>0.146107</td>\n",
       "      <td>0.272080</td>\n",
       "      <td>0.101283</td>\n",
       "      <td>-0.372793</td>\n",
       "      <td>0.732144</td>\n",
       "    </tr>\n",
       "    <tr>\n",
       "      <th>chlorides</th>\n",
       "      <td>0.212247</td>\n",
       "      <td>0.148052</td>\n",
       "      <td>-0.092614</td>\n",
       "      <td>0.666195</td>\n",
       "      <td>0.246501</td>\n",
       "    </tr>\n",
       "    <tr>\n",
       "      <th>free sulfur dioxide</th>\n",
       "      <td>-0.036158</td>\n",
       "      <td>0.513567</td>\n",
       "      <td>0.428793</td>\n",
       "      <td>-0.043538</td>\n",
       "      <td>-0.159152</td>\n",
       "    </tr>\n",
       "    <tr>\n",
       "      <th>total sulfur dioxide</th>\n",
       "      <td>0.023575</td>\n",
       "      <td>0.569487</td>\n",
       "      <td>0.322415</td>\n",
       "      <td>-0.034577</td>\n",
       "      <td>-0.222465</td>\n",
       "    </tr>\n",
       "    <tr>\n",
       "      <th>density</th>\n",
       "      <td>0.395353</td>\n",
       "      <td>0.233575</td>\n",
       "      <td>-0.338871</td>\n",
       "      <td>-0.174500</td>\n",
       "      <td>0.157077</td>\n",
       "    </tr>\n",
       "    <tr>\n",
       "      <th>pH</th>\n",
       "      <td>-0.438520</td>\n",
       "      <td>0.006711</td>\n",
       "      <td>0.057697</td>\n",
       "      <td>-0.003788</td>\n",
       "      <td>0.267530</td>\n",
       "    </tr>\n",
       "    <tr>\n",
       "      <th>sulphates</th>\n",
       "      <td>0.242921</td>\n",
       "      <td>-0.037554</td>\n",
       "      <td>0.279786</td>\n",
       "      <td>0.550872</td>\n",
       "      <td>0.225962</td>\n",
       "    </tr>\n",
       "    <tr>\n",
       "      <th>alcohol</th>\n",
       "      <td>-0.113232</td>\n",
       "      <td>-0.386181</td>\n",
       "      <td>0.471673</td>\n",
       "      <td>-0.122181</td>\n",
       "      <td>0.350681</td>\n",
       "    </tr>\n",
       "  </tbody>\n",
       "</table>\n",
       "</div>"
      ],
      "text/plain": [
       "                      Concentration Acide  Concentration en SO₂  \\\n",
       "fixed acidity                    0.489314             -0.110503   \n",
       "volatile acidity                -0.238584              0.274930   \n",
       "citric acid                      0.463632             -0.151791   \n",
       "residual sugar                   0.146107              0.272080   \n",
       "chlorides                        0.212247              0.148052   \n",
       "free sulfur dioxide             -0.036158              0.513567   \n",
       "total sulfur dioxide             0.023575              0.569487   \n",
       "density                          0.395353              0.233575   \n",
       "pH                              -0.438520              0.006711   \n",
       "sulphates                        0.242921             -0.037554   \n",
       "alcohol                         -0.113232             -0.386181   \n",
       "\n",
       "                      Équilibre alcool-soufre  Charge minérale  \\\n",
       "fixed acidity                       -0.123302        -0.229617   \n",
       "volatile acidity                    -0.449963         0.078960   \n",
       "citric acid                          0.238247        -0.079418   \n",
       "residual sugar                       0.101283        -0.372793   \n",
       "chlorides                           -0.092614         0.666195   \n",
       "free sulfur dioxide                  0.428793        -0.043538   \n",
       "total sulfur dioxide                 0.322415        -0.034577   \n",
       "density                             -0.338871        -0.174500   \n",
       "pH                                   0.057697        -0.003788   \n",
       "sulphates                            0.279786         0.550872   \n",
       "alcohol                              0.471673        -0.122181   \n",
       "\n",
       "                      Intensité sucrée  \n",
       "fixed acidity                -0.082614  \n",
       "volatile acidity              0.218735  \n",
       "citric acid                  -0.058573  \n",
       "residual sugar                0.732144  \n",
       "chlorides                     0.246501  \n",
       "free sulfur dioxide          -0.159152  \n",
       "total sulfur dioxide         -0.222465  \n",
       "density                       0.157077  \n",
       "pH                            0.267530  \n",
       "sulphates                     0.225962  \n",
       "alcohol                       0.350681  "
      ]
     },
     "execution_count": 32,
     "metadata": {},
     "output_type": "execute_result"
    }
   ],
   "source": [
    "# --- 1. Standardisation des données ---\n",
    "X_scaled = StandardScaler().fit_transform(df_red.drop(columns=['quality']))  # Remplace 'df_red' par ton DataFrame\n",
    "\n",
    "# --- 2. Appliquer l'ACP avec 6 composantes principales ---\n",
    "pca = PCA(n_components=5)\n",
    "X_pca = pca.fit_transform(X_scaled)\n",
    "\n",
    "# --- 3. Variance expliquée par chaque composante ---\n",
    "print(\"📈 Variance expliquée par chaque composante :\")\n",
    "for i, ratio in enumerate(pca.explained_variance_ratio_):\n",
    "    print(f\"PC{i+1}: {ratio:.3f} ({ratio*100:.1f}%)\")\n",
    "\n",
    "# --- 5. Contributions des variables aux composantes (loadings) ---\n",
    "loadings = pd.DataFrame(\n",
    "    pca.components_.T,\n",
    "    columns=[f\"PC{i+1}\" for i in range(pca.n_components_)],\n",
    "    index=df_red.drop(columns=['quality']).columns\n",
    ")\n",
    "\n",
    "rename_dict = {\n",
    "    'PC1': 'Concentration Acide',\n",
    "    'PC2': 'Concentration en SO₂',\n",
    "    'PC3': 'Équilibre alcool-soufre',\n",
    "    'PC4': 'Charge minérale',\n",
    "    'PC5': 'Intensité sucrée'\n",
    "}\n",
    "\n",
    "# Exemple sur le DataFrame des loadings\n",
    "loadings.rename(columns=rename_dict, inplace=True)\n",
    "\n",
    "loadings\n"
   ]
  },
  {
   "cell_type": "code",
   "execution_count": 33,
   "id": "99a4329b-7778-47a5-846e-8b1b69946cd0",
   "metadata": {},
   "outputs": [
    {
     "data": {
      "image/png": "[encoded data removed]",
      "text/plain": [
       "<Figure size 800x800 with 1 Axes>"
      ]
     },
     "metadata": {},
     "output_type": "display_data"
    }
   ],
   "source": [
    "import matplotlib.pyplot as plt\n",
    "import numpy as np\n",
    "from sklearn.decomposition import PCA\n",
    "from sklearn.preprocessing import StandardScaler\n",
    "\n",
    "# Si tu as déjà un objet PCA de sklearn\n",
    "# Refaire une ACP complète pour obtenir les loadings\n",
    "pca_full = PCA().fit(X_scaled)\n",
    "loadings = pca_full.components_.T  # Matrice des loadings (variables x composantes)\n",
    "\n",
    "# --- Calcul de la variance expliquée cumulée ---\n",
    "cumulative_variance = np.cumsum(pca_full.explained_variance_ratio_)\n",
    "\n",
    "# --- Graphique du cercle des corrélations ---\n",
    "plt.figure(figsize=(8, 8))\n",
    "plt.axhline(0, color='black',linewidth=0.5)\n",
    "plt.axvline(0, color='black',linewidth=0.5)\n",
    "\n",
    "# Tracer le cercle\n",
    "circle = plt.Circle((0, 0), 1, color='b', fill=False, linestyle='--')\n",
    "plt.gca().add_artist(circle)\n",
    "\n",
    "# Tracer les vecteurs des variables\n",
    "for i in range(loadings.shape[0]):\n",
    "    plt.quiver(0, 0, loadings[i, 0], loadings[i, 1], angles='xy', scale_units='xy', scale=1)\n",
    "    plt.text(loadings[i, 0]*1.1, loadings[i, 1]*1.1, df_red.columns[i], color='red', ha='center', va='center')\n",
    "\n",
    "# Limiter les axes pour afficher tout le cercle\n",
    "plt.xlim(-1.1, 1.1)\n",
    "plt.ylim(-1.1, 1.1)\n",
    "\n",
    "# Ajouter des titres et labels\n",
    "plt.xlabel('PC1')\n",
    "plt.ylabel('PC2')\n",
    "plt.title('Cercle des Corrélations')\n",
    "\n",
    "# Afficher la grille\n",
    "plt.grid(True)\n",
    "plt.gca().set_aspect('equal', adjustable='box')\n",
    "\n",
    "# Afficher le graphique\n",
    "plt.tight_layout()\n",
    "plt.show()\n"
   ]
  },
  {
   "cell_type": "code",
   "execution_count": 39,
   "id": "bdd2eaf3-34c8-4883-97a9-e44236b32dc0",
   "metadata": {},
   "outputs": [
    {
     "data": {
      "application/vnd.plotly.v1+json": {
       "config": {
        "plotlyServerURL": "https://plot.ly"
       },
       "data": [
        {
         "hovertemplate": "PC1=%{x}<br>PC2=%{y}<br>PC3=%{z}<br>color=%{marker.color}<extra></extra>",
         "legendgroup": "",
         "marker": {
          "color": {
           "bdata": "BQUFBgUFBQcHBQUFBQUFBQcFBAYGBQUFBgUFBQUGBQYFBgUGBgcEBQUEBgUFBAUFBQUFBgYFBgUFBQUGBQUHBQUFBQUFBgYFBQQFBQUGBQQFBQUFBgUGBQUFBQYFBQQGBQUFBgYGBgUFBQUFBgUFBQUGBQYGBgYGBQYFBQUFBQUHBQUFBQYGBQUFBQUFBQYFBgUFBQYGBgQFBQUFBQUFBgUEBgUFBQUEBgUEBgYGBQUFBgUFBQUFBQYFBQUFBQUGBQUFBQUGBwQHBQUFBgcHBQUHBgYGBQYFBQUFBQYFBQYEBgYFBgUHBgYFBgYGBgYGBQYGBwcGBQUGBgYGBQUGBQUFBQcFBAUFBQcECAYGBgYFBQUGBgYIBwYHBQcFBQYGBwUHBQYGBgUFBQUFBgYFBQUGBQYGBgYGBgUFBgUGBwYHBQUGBgYHBQYFBgYGBQcHBgUGBwYGBgYGBQcGBgYGBgUFBgYFBwcGBQYFBQcGBwUFBwUGBgUGBwYHBgYGBgYGBQYGBgYHCAYFBQUHBQYGBQUGBgYFBgYHBgQGBQUHBQUGBQYFBwcFBwUHBgYFBgcFBgUGBQYGBgUIBgcHBwYFBQYGBgYGBwUIBQUHAwYFBQUGBQYGBgUFBgYFBgUFBgUGBQgFBQYFBQYHBgYHBwYGCAYFCAYGBwcHBwcHBgYHBQYGBwcFBgMGBQYFBQUFBQUGBgUGBQUGBgYFBgcFBQYFBgYFBgYGBgYGBgUFBQYFBgYFBQUGBgUGBgYGBgYFBAYGBAUFBgUFBQcHBgcFCAcFBgUFBQUGBgYGBAYFBgYGBwYGBgUFBgUGBQUGBQUFBQUGBQUFBQYFBgUGBAUFBQUHBgUFBQUFBwUEBwYFBQUGBQUFBwYEBgUGBgUFBgYFBgUFBQUGBQYFBQUFBgUFBQUFBQUFAwUFBQUGBgYFBgYGBgQEBQUFBgYFBQUFBQYFBQUFBQUFBQQFBgUFBgUFBQUFBQUGBQUGBQUFBQYGBQYGBQUFBQYGBgUFBQUFBgUGBgUFBgUGBQUGBgUGBgUFBgUFBQUFBQYGBQYFBgUGBQUHBgYFBQcGBgcHBwUGBQYFBAYFBgYFBQUHBQUFBQcFCAYEBgMEBQUHBwcFBwUGBQYFBQYFBQUFBQYGBwYHBwYFBgUFBQUGBgYGBgUEBwcHBAYGBQUGBgUGBQYHBgUFBQYFBgYHBgcDBQcHBwcFBQYGBgYGBgcGBgUGBgYFBgYGBQcGBAUHBQUGBQUGBgQHBQcHBwcHBwcHBwcHBwcHBgUGBgcFBgUFBgYGBwUGBQYGBwUHBQUFBwUGBQYGBQYHBQUGBQUGBQUGBwcGBgcHBwcFBwcHBwUHBgUGBgYHBgYFBgYFBgcGBgUGBwcHBQYGBwcFBwYFBgYHBgYGBQYGBQUFBwYGBwUHBwYIBgYGBgcHBwUHBQYGBQcGBQUHBgcGBgYFBwYHBwgGBgcGBQYFBwUGBgYGBgUGBwUGBgcGBgYGBgYGBQgGBgYEBwYGBQYGBQcHBwYGBgUGBgYGBgUGBgcGBgcGBQYGBQcHBgUHBgcFBQUFBwYGBgYGBgYGBAcFBgYFBgUFBgUGBQQGBQcFBgYGBgYGBgcIBQcHBwUHBwYFBgYGBgYGBgYGBgYGBgUFBQcFBgUFBAYEBgYEBAUFBgUGBQUFBgYGBQUFBQUFBgYGBQQFBAYGBgYGCAYGBQUGBgQGBgcGBgYGBQUGBQUFBQYGBAYFBQYGAwYGBgUFBQUEBQUFBgUGBgYGBgYGBQYFBwYGBgYFBgYFBgUFBgUFBQYGBgYGBQYFBQUFBQYFBQUFBQYFBgUFBgQGBQUGBgQFBgUFAwUFBgYGBgUFBQUFBQUFBQYFBQUFBgUFBwYFBQYIBgcGBgcGBgYGBQUFBQcFBQUFBgQGBgYFBQUFBgYHBgYFBQUGBwYFBQYGBQUFCAcHBwUGBgYFBQcGBAYGBQUHBAcDBQUGBQUHBQcDBQQFBAUEBQUFBQYGBQUFBwYFBgYGBQUFBgYDBgYGBQYFBgYGBgUGBQUGBAUFBgUGBgYGBgUGBQcGBgYFBQYHBgYHBgUFBQgFBQYFBgcFBgUFBQUFBQUGBgUFBgYGBQYGBgYGBgUGBQUFBwYGBgYFBgYGBgUGBgUG",
           "dtype": "i1"
          },
          "coloraxis": "coloraxis",
          "size": 1,
          "symbol": "circle"
         },
         "mode": "markers",
         "name": "",
         "scene": "scene",
         "showlegend": false,
         "type": "scatter3d",
         "x": {
          "bdata": "2GLqd61xKsCGpwgiTgo2QPDDVJNUqRxADEjaPlPbKkDYYup3rXEqwPC9btiHuRvAtGcGCDYUKEA0cNqXWAw5wDYxkSgESD3Av1vNXpM7S0CW5ihmZOcxQL9bzV6TO0tA/Jz7FdOJKEAtWfhQeYoywEakixzGA1pAyA+m4SaxWkAPCpCOCqpNQJxDoonqqSJAoGbii4kqM8AIixzDHBkjQPrthcj9ETBA7poyqxeBOUC4XT/NRQolwFbmLFW7iDJAMN1yoqa2FMCrDYbVjfM3wEqDFp47mULAuF0/zUUKJcDkTvQ8By0nwDRHJnT2cj/A/RmUqbZ2QUAA/iM8tpAfwMbpCSGELlBAlSOklvGAREAgobjbyLgGQDu+OHBtHz7AaBvw6c3CQMCYuFwGOLMwwGTjsPo7uTzAz92+kiheQ0DP3b6SKF5DQACyMdasK8m/0f780+iyQMDJynqlOGY4wMTS6MKXfELAahPXY+FdMEB8DtOAcM9QQKhhgHe6LCTAP6F/dV//QcBXeaQhh79HQKOKejvIfjnAptRYCuI0QMD8b9n15+lAwLCgZ86yd1JAbtcxKR2kPUAAPHC799LiP8TSBu1zFkPAoDbAqXFfUUBYCABxImgeQEDuHtTJN/+/mEJjozBYGEAAAEUDRjZQQFQRTi4kEyjA0H4sn2zrGkAFIEj95pZCwAUgSP3mlkLAbLsi37WyIMAxspllEm5AwEISZOKigTRAbTOmxkqHPMAx4vZw3S4zwMX1Rtx8SkhAfwGrU4JsR0BY1skup8ERwC/pOvHoJUNAiB+EBip4F8CIH4QGKngXwMoxxvECeTDAml0Hit/gP0CCNQSzYE1SQG2H9+aVwEDAuiZf6FthNUCe9P/VOwU7QHA/3VOo1RFAjPY1qDdMLUCIl5gGwnYWwBZB0VsZEFZARpgBz/+WMMCYNul+lCVUQEjn2yaUoTfAfrVUVLQ+WEAWQdFbGRBWQLCzpwwjR1VARpgBz/+WMMD3BONSJI5FQLlSn8SUKk1A1aFslCGbOMAz66J7Hq06wPEXJyiP+ULACAsIdB6hJ8CQUd34IAEDQKCKosKHmTnACAsIdB6hJ8DW9htEyD0xQKDiQsP0KCnA1vYbRMg9MUDCCSbghHQ2QOYdtswJ7jBA17lIO+aXQECiMenEfyRbQIAYZdR5sNS/YXBWK1x8TUCVK0ZUDkdPQMC0+olZ+Os/gBhl1Hmw1L984mgM7AYtQHig/s/Khh3AyUHQbhb1M8BYpitjSMIhQF2y4slCbEVAzySein4cREBYpitjSMIhQLH2l2o4ukHAhApxgsdwKsCNudbtNadLQK/T5WYmdEZAjts1lg06QsA3lCtP3TlCwL4qCSMKR0DA+B8mv73xPMAcoZAaCSBWQE1/UcglwElATX9RyCXASUCAMi4MQLgzwGJd7wyhqzHAEk9i9tAoMEAwBowBDnUQQIDDm1GOYwDA49Cpfll2TEDV11M67CROQBJPYvbQKDBAMAaMAQ51EEAKn83qjo0yQN8HQYiUoDzACp/N6o6NMkDYdadd//BXQG8g08KCwUdA55ptwQGfQ0CzKBgkpegwwDDwQsdBzBHAjN++ztt9QsB2Gut6fIc5QC9AdGGUoEpAL0B0YZSgSkBKeY9PpdtUQKanXDcyj1RASnmPT6XbVECmp1w3Mo9UQEWuwYvGtDjACyyqK7qFQ0BayD2WHcI7wIcHeOzZUTvAUKydjU2yLcDKpyCkeUtTQKgcocVzPVNA2XckYvD1R0C7yAf4D9dKQPhdvCYSZRDAkJbF6svDC8BMhAJHauQvQEZmDhc9D0TAQXU5LNHuPcBBdTks0e49wBCH7UnKtgTAJLA8s/E9KsBw+BRvfU0JQCSwPLPxPSrAmNVikAD4I8BwbcEHGsA7wOj2gZm0jxbA6PaBmbSPFsCJ2meHGsZPQHiT6SnlQhHAJqtKnPUGMUCoDtjTruEqQMWfJRGk50NACiYfYj+iM0DDuduxdnY1wDCNG2Ppf1dA4PwV3k/aV0CM3mR6Se1TQLAtg0pMzgxArsy3aNFpU0CmpvSes/MzwKam9J6z8zPAKO9Xs91hUkCE4oHy3kggQHc6PfKi3TPA70FbeqNgRkC8kgdJCN4vwEMKR6LTcjfA3ljHNb9MWUAwDbD4Ig4EQEj5vts+/hzALN6vg4VII8CtCUbC6Y4zwK0JRsLpjjPAcmMDwM59UkA74cXvR+pHQDcUc+O1xDzAkiK7hug0PcDQyHHcdL8rQPt6Br6XjUDAXkYkV8y8NECwrmuG1XYawALxSoouvlJA4Nj7fDJW/T+AWq7Rc5EZwBA4yZlofg3AeMYDlKw8WEBseK9NABEqQLoGGMTZ8jhASy5FDM/5QsBvbU+sRL8zwDD4i6M9RSBAgh7BVi8BM0Dhi78Exg9CQGfjZ/b1ZTjAgh7BVi8BM0DkVR+0pwclwBmZ7pl1YU1AwLBCQnrq+T+A/kXmYXEnQORVH7SnByXA7DgCVdFYJsAI7NrdnlMhwAjs2t2eUyHAaPdct1jhHcAI7NrdnlMhwOw4AlXRWCbASINVbBiMKUCKOKU+/Bw4wB2pI+wE1U9Arby8gLc/N8CtvLyAtz83wG+nE2X8DTnAeI8bMOXWEUA2i/nADdQ4QKBAzeNslSHAb6cTZfwNOcCMJClu7XYiwDCDAdLARCjA1RJo9vU8O8DrkhBcTm1CQDCDAdLARCjA5uiFjgDCUUB4uN8GLIRBwMiuix5i8CBAUIuCNVEwCcCg8HeiHiIrwAAMCrSpx+6/ApQnzqQzM0BU1TpV6/IowLj2jCPSJBBAjGDTTK9mNcAVPBVWD+NCwCaMLHLcaTBAbLY9FI/iIsDveB1wPOs0wE9H3xuIgDnACjYU9g6gMEBPR98biIA5wNKVq1xGVDJAuOv4a20UI8DD4N/Mg25IQAo2FPYOoDBA73gdcDzrNMBPR98biIA5wBsmpz2mhEHAQJV/+t7/578sfaoA/PY8wFAQraK2+ULAYNDXmdAtFkBAlX/63v/nvzqUA6wEeDtAOpQDrAR4O0CYof+GRsIRQJh0tuP8gSJAAK06NdzoCkAXH38m/gJLQACtOjXc6ApASD/QYIn0PcAAVcN8fyr/P+dUwvmfDEDAkM+omW1lGkAtIRF4iGE1wPb1NnkXKzlAAr0m7WnBMsDC34LZmXUxwOzE+q2Usy3AgHYRJ4UL+L8IPLcuxlVAwM9M7ipE3DLAhe4sf9c4O8C7JaOU0NBEQM8GxYIMHTfA4PJdSmarFUDQ4DVyjOxAwHcDwN9UAkLAU1X2JrWRMcDPBsWCDB03wH0L9cOwdUxADb5Hlnt7SUBMcBalyF5WQAoZerrPITtA0Kek34kcHUAPqg/ZqoZIQFKpMt+T8j1AFOsHynGqKkBSqTLfk/I9QBTrB8pxqipAk7DsZ6XGREASYldT4ew9wCKJlDsVET5A0Dj5ZuYWB0DQOPlm5hYHQOq+HQZZ7kDADLheVTGEQcBFgqz3cgk7wJh1bUzaU0DA2GQrXB6TGsDYZCtcHpMawOrS5H1/wVBA4Prnf68VA8DwYF0Q+w0gwAFAG8Vs0jrApOi4dlrpP8DEQB9oHEQsQEH/2kZv8EpADbbfSpnrMcAfPkMkDic6wLA+5M3CLD7Aw4Umxe3tQMDDhSbF7e1AwDD4yNszTTDA3g2IJB5rNUCUbEYFH9knwGgOFR7Cc0DAgKgg9Bnf5L/GNiYYqBUzwCgXjmjt2yfAK3DwFjMJNcABiUQLq4I8wGJ4UZ2vUj9AsMyt2u9BXkCc5ZuyTsErwKQqL5WEXCZAvot7ICPqMcAGlgYrjjQ4wNiKP+E7kxrAb1W4r8CkQEC4PmBxIUYSQGxjuWGk1CbAcCVPbNRxQMDYJGR9+TYZwPvbE+u2zTrA2CRkffk2GcAC+QlOBP02wJ6VejlapTtAlEbq1sH1PcA+6JWtCVQ0QDAaZOExAjbAoEUQXiPu+z8KcAY/hhM4QKD/pTfytvq/RLQxuspwQMAgrPW/v+vyP5RG6tbB9T3AtUZCo9MWOMAIb7TBNPQtQK+D1fWGDzTA0LHuxptTCcCvg9X1hg80wK+D1fWGDzTA1KPup23WIUCIcFMd/5ckwLDAjL3UeAhAIL/QZ1p1EMCo4C0l7L4fQMCA91GB5ANA9zDzCMrTQ0DQse7Gm1MJwDKRgd9eIjbAj2AW8DpdR0ChYa+KHCE3wLh1eoUTeCTAzDW16XTHVUCAT9VasRP9P4BP1VqxE/0/CN25olNvF8DMNbXpdMdVQIALRp5Xdx3AVspRg6rDMUAYdubuUY8awFYOnPJSKzPAlKaPKiwGNsCQAdOlU4kzwKLTNZ4m8TDAowVCdcLlP8C46t35v8ISQCtxclKcZERAewv4otkpQECal4gPG5w9QP0XoG3F8jzAGs2jjLTeUkBm7q3cZDBWQESPyKTzAjzA0uHn84HnU0Aji/ENTcs7wFROaKchvyJAApXZA/gxOECIrtjm8g4UQHhYVj9XBSpAvzgJKegbOMB4WFY/VwUqQIiu2ObyDhRAAPParZBuAUAaYMnX1UowwPDM12zLkzHAyBJRgRiyJ8C/OAkp6Bs4wPLEi+h9MDRAN8IFd0/PNsCIGW9kRPQ9wBC3X85VXiFAiBlvZET0PcCGi4AOX/4zQO6LZcUoDTrAELdfzlVeIUCg80qKYTX4P7FwGc8+PTPAUs980wT4NMCIGbF57FsWwIX2Hgt/4zvA/9Qua81hNcA+9TSGW0MxwJZdN7/JMjxAKCmwl07mP8Bd/wadZvE0wPwOTCCs7iXA/A5MIKzuJcBNzOucank1wJhN37DwcCXAfKnXcBhGOsCarHMIDic1QP3Da+0j/DzAsstYAyxBOsBSHMCZMPU0QHyp13AYRjrAQCxKXMOb6L/0FqAtYFI3wJlSbrU48zzAh2INuepANsBGp6vXBaJUQCfKARezjEDAMJaS1mRBNcCYzfjL2xIWQPZEuVKCvj3Aqa+P7ZcGO8AQ/qqgppEXQIATuOoDSNM/qBElbvWCHUAqf8yOmfo2QMx/ftzrCEHAvkdmefk4N8DzyEF8rmc0wBjlUIUb5D/AFi3T1mICPMDzyEF8rmc0wA8ytKjdQTHA/vXVNgnzOMCXlcm9Q+8+wEFVlMKe8T3Ay+ihw5e5PcCjrn9Uaho4wAcl9DRt7D7AByX0NG3sPsByoPPzjAlBwFY7ye8tMThAD5U6et5CNcBA9k0i7iQmQGhukQTM0jXAzZec5bCmM8Ave/DwO59BQPEfL99SE0dAppehkzURQMBAF0dTgVUhwExCIxq1tlFAppehkzURQMAve/DwO59BQEAXR1OBVSHAn/lu87rUQECf+W7zutRAQP6an8MtHDjAxkOENckPOsDzh2M1b0g1wGSvaTdnCTvAHiSa1TtqQcB6lL5aXFsxQICSPF2V1P2/oMlMm4SVBcB6lL5aXFsxQCBYSkJdHAJA2BqyTztyQMDYGrJPO3JAwH51iAu1f1pAqkHpvCAKQcAyXOJXogxAwKBz/B94aS7AyT3pECuTT0DAq+fKKa0qwEC6UnXywgrASsWtPJ/PVkAalDoUY4NYQBhj6wG4WVFA8LrOK5V7IkDJPekQK5NPQAPzD2HYq0RAjCrgqoS6J0BUt5zMDZsuwHWVZleKSDXAYAg09YflFMBgCDT1h+UUwHBrEq2GuirA3PysbG+BLcB1lWZXikg1wFS3nMwNmy7AJ2/MEQSFQcCoP6UtUCsrwN75PM3GID/AwKpSUmHm9j9ZcsSZWRw/wI0xW4QcNTzAGMMtpZiCGUCAGCv5jXJAwAP7G6pod09A0RoEjq9MM8BMl0SH5gY7wHJn5wiTZDhAkg8RioEcN8C/vq53uXA2wOC3Qk3Oh/2/cNpXEAmVBsBBPdh5oe5JQMLbo1atNjjAwtujVq02OMDfHKz3Tws+wJyADIjVNjjA3xys908LPsAgimS1DL76v1717L0dNT3A6jIUICe8UkA6ZkSJqd9QQBR61m2YaS5AIIpktQy++r9e9ey9HTU9wMf8NZjliUDAx/w1mOWJQMAAYWzjNDc8wNAk4m5HZg3A5Ic8fSgVJcDQJOJuR2YNwD8AbidoUDPAAEYIqG6muj/OaTFpIak/QCDVKpV8awFAoMSEqqfrQMB/CRVisrdPQBWiJI6qHk9AuClpooxwF8BOt4zF4QlBwE63jMXhCUHAWG+fSzOMQMAjB269Hio6wEPX0DjwhERATNkthvD0I8DAAeSV9sTgPwlvyEsUVEtASCaqsYFzEEDH89YQg4ZBwPLC1d+c9jxAOkfY9t9lWUDywtXfnPY8QPjS+BmighPAkJyyBZhjHcAAMWXk6AlQQGnmNN46GzjApo9WI3EuPsDmviRTHHMywOF7+1Vs9jjAQwCyxxHVOMBEJoQj0h8owGVDVACR6UDARCaEI9IfKMA0ICmdonUvQNKq0C9REzjAkVPfxJQdO8AY8W7u0nUeQPaWa+Y3BjFA0GLgEh/nHcCgVKcpbo8oQPcZbWEYEEDAgOWam6KSMMCBimePgFQywI+HcExz7kpAyi8FFhyWOkDKLwUWHJY6QHiyYHXhcjLA5T9/oepcP8CfjDlQ5+U/wDfDl/Cx/U9ARWC4faneS0BkYs/YT0EvwADVZGRRSdS/vEALR5HTKEC8QAtHkdMoQDj4gGnYiUDAOPiAadiJQMCYWm9A5gcxwAkpXZZexEJAmFpvQOYHMcAzAQiAqi49wNCK1X1UCwLApzPTNDXAQkC/7jEsy2NOQEh79hPAuybAtFqJcGJLWUCQey5BfdxYQADQhSW11zjA2NC0/seGKEBYHbDHaCQZwFKTfpoYITZAWB2wx2gkGcBSk36aGCE2QFgdsMdoJBnA7GViKVB6QsAzpGiF+vY7wDWOj59SB0HA63sAuaxQM8AwBYZxTDlZQNzAD+GLsi/AAq2fEjSEW0BK3adFJD85QJ1gT91yljHA5MFZO7j6MsCoWxyDuB4dQNzAD+GLsi/AEFn0QAm1BsA6ldlcAjQ8wHtzqo3VgEHAOpXZXAI0PMAIz1PM6CoSwPC0JbgQfzTAOPUkfIWGQcCgd+VFEokcQFDMKWWN5wtA3Lk22bzjP8BMzX0ApHBAwBh9SPualy7ATM19AKRwQMDAnRP8iMT6P49KKaADhEHArtZh79ZgWkCPSimgA4RBwBaqOd2mtD7AvMsWsnnjL8AWqjndprQ+wKCv/OHX3y/AAyW3+I72RkCAxw3aQfsKQCi0xbDDGhrAIr0Nlz8EMcBU0b0YQZEtQJT5qZSiikDAXhGj+X/JWkCU+amUoopAwDBFpiWjtRvAsP/PnlvEIcDRnIUJOZNDwFm5iClmID/AErkZdIsDQcBnwIC950ZGQOSJJGjqXy5AQGmWc7O0UkDSb/hf/plTQKBqwnCCNf+/uegR1Q2pNsC56BHVDak2wOYAmmntYTlA8fLdZmU1PcAz5u/LHl1FQLnoEdUNqTbAORfGqGhkOMAl8KOhGv1CQP5dkrySI0HA4NqORVFFGUAoKAj6jBM8wFyqw/qBZSLAyMOQtRmGKMAYpJW00pErwJEe02f03UJAd/8bG7P8T0BM1u8+b4MrwAAzlSLn78s/JvqvvZnoPkBYxmWN944pwAAzlSLn78s/gDYrDlYg+j8LbvXHyyc5wMDluWxbh/K/C271x8snOcBjYpLftiNPQCAxauC7CPU/YsHlO2e/VED5heHQn/9BwB5TqzXxg0HAMMqXiqp3B0BIqH2fSphCwEiofZ9KmELAMDIC7iVgK0BIGhlsXywkwI50YXhiI0HAXwZUKCUTPMDmEILU1fQ4QJwT0qc9kCHA4lCjJj7uOMDiUKMmPu44wKAP2BcG4idAeT0Zb7dlTUCAhUmfFksewNsGr96DkT7ALsmRIww8V0CmS2AUf0M9wOlag7RUmEtASfyr8vYoS0Dzex2wHNwywOAsqWUU3yJAVkXHCC4LNUBMkf8lnN0vwPN7HbAc3DLAeIzyOpk1GMB4jPI6mTUYwOYjeNc02TRAeIzyOpk1GMDI+BcM1wstwOANoS5Uqv0//JIogyepKsCgNMT9O18wwKA0xP07XzDA6/EexG0jRkBrQC+/D1FLQDiV4kOXJCvAUKqjmjOIPMA4leJDlyQrwKCmlB9syAvAQJYEoPvK5D92GiiIFQY6QE1BuKYG1UhAHxNrIcUUSEDeSWOTlg0wwB8TayHFFEhAXjT02qPvV0CeEtlb/C1YQNC/dD+SphbA4F3hJGLfEcCqc/9BB6c/wECVtjy5mui/0yis6frtPcC4j06NpzEswMVqM1zDx0ZAECVn0Z4sAsDsHdzhdXMlwJO7/6CDRUlA7B3c4XVzJcAb5+6qcEFDQLSV6zyUNypAtJXrPJQ3KkCEeQuJfNgnQIR5C4l82CdA0kLNS6H5UUB5Iz41K5JBQICBsk1T4FRA04ZyXLTmQ0AeGFhorEtBwLfJWKOe8DXACJtMOUGAJkCuG8x5o+MyQJDwM2AvFArAZjPoJIIHQcBmM+gkggdBwLVfBC3PI09AoDiY8cp2PsBX6SGTTxNDQIChPkD4geu/HtZ5WhNfPsBSUqkluBlDwNxgZwkTGkPAUlKpJbgZQ8BAgmWl0htCwLK1Pv/HpUDA//hmnUUiQcCmuo44z+Q3wEg6+Lkmfx3AMhoxBeWMRMDgiVroSLoSwEg6+Lkmfx3ALgucu8fLMcBwDRYVNFgywID2Wunlfvo/3LnZ5Zd2JUA+qzEr/105wLDthoOZXxHAHIHvRxHJJMAcge9HEckkwEKTT/XZ3z/AYH0cnCrWIsAwwK61lxFEwGB9HJwq1iLAIE1SS5kWBEBm4Z6efuM1wKi+njC4dkPAZuGenn7jNcDgyi5OjtEVQBAxlKD7nSFA5EDAqgnfNsDIHFxbgYclQPUVp1t7UExA9RWnW3tQTEB1thYWjo0zwANs0owXlTTA5Ov9dD9nK8AoD+1vUecrwEamd+cA9ThA3VhrOkp3RUCwj774fE0BwBBHdyO/+i7AEEd3I7/6LsDkWVFNKkQgwBBHdyO/+i7AOFcQ+THoLcAcewZ9SWE5wBx7Bn1JYTnASsz6Sdj6UkDE5OpgdpsrQMTk6mB2mytASuU2o5x8QMDE5OpgdpsrQIAnsUiXIuE/XBpCkCXPK8BjDf7zvh02wBvU8JHDtUJAAzM8w5cqREAmt+dA5+A2wN33uiCFcEJAG9TwkcO1QkDPTM3pY05DQBA4JITcjDbAget0Hw+BOMBjDf7zvh02wECP8WeOg+6/AAZ6H8dmtb/A7hxVE5gPQBAbwWOWoxBAy/NfvOfhQsA69wz47OJCwLBpaREmrz/AtZscYUvOQMAABnofx2a1vwI6G0cMFjlAP1qWxjyAREDklF4SLyQ6wFBTWXyVNSDAvcaa0yxjNMA/WpbGPIBEQAI6G0cMFjlAi9k6ecSSMcDvecQjp78zwLj5L3TPSChA2lyMuhWjNEBJm4tOCWxKQIwsEFbZ/SBACZPoBw9OQ0BzHNJaYRI9wAmT6AcPTkNAr6Xy3xhjREDAzbYJ+0ruv9Ad20diQgnAwM22CftK7r/QHdtHYkIJwPa5IacVYELAMH9f+nQpIcD4epFUuTsqwPh6kVS5OyrAnqe5V6fPPMCep7lXp888wGCRhR+Oq1BAzm9lhGfsPUAeKJd0jFtDwHJS4j9QJTJAj0Qiu85HQsBdYrMV7bdCwCGEBCbqqUPAyixpKk0TRMDgqRUyvjNDwI9EIrvOR0LApq68q4UoRcAwHRbD8HAqQICY+Yt1IOs/X91CsWihQUBQ56VGZnkRQKCCSVO0MDjAX91CsWihQUBQ56VGZnkRQICY+Yt1IOs/9Nm750pvMsAb72o23fJCQFvWnP5T5EBAXqEUk1jIOkD02bvnSm8ywOTBG77RGDzAeKV5LmipNsAsl0FBQ8QhwFZIk4W67jVALJdBQUPEIcB4pXkuaKk2wBLy/ENblDlAEvL8Q1uUOUAoehBH8ic2wCDxyQ+XfwbA6CvF1t9FQsD+fcp5m5o1wC8CzfpTQz7AoIwpCPQEE0DgwE+Wj9cFwOvJkzld/jbALE2jIN7KO8DUbJrbewA3wEg3xhoB6EHA3c76mcUoOsDdzvqZxSg6wN3O+pnFKDrASDfGGgHoQcCg5746nOBCwCg9KlPqe0PAnfp4qfZiQsA7VUvYvWc4wFvotgjj/ELAkLR4TuFyDEBAAKxoi28gwHAUaLAY7C3A6ALEOo88H8Bjo9BMTrU9wBvtzt9Q3z/Ax9jSFAIbMsDoAsQ6jzwfwOCdNBFiIgpANMfxUZThQsCsLaV5n55QQPDJKKSvLgNAfLMY2zHMOcBTFdJC3uFCwFMV0kLe4ULAUPoAY4prQcDc2Lb/HuZBwMKoLTAMS0HA2kneXtobPUDaSd5e2hs9QDxBDlOwhVJAab4kfqqKMsAQS4KWcipFwEdekXaVfD7A9VJZ+6OnMsD6vh4wzqE+QEdekXaVfD7AEEuClnIqRcD1BY0Z1kZCwFkitxWcrUTABvtDmlonO0D9mZCF8k0ywM2b72vVRznA/ZmQhfJNMsB+FrgvllQ4QKBgceKY+QxAfha4L5ZUOECTO29JJ7ZEQIBsMsPfmhLAzppcKQi3QsDOmlwpCLdCwER/bqXIF0PAeDhXMNrKQcAcz5B2iOZBwBBRnl8Jbg5Abns2B3mlM8D1nzQaDxNEwID9e47y9e8/9Z80Gg8TRMBuezYHeaUzwKqQ8Lsm0TXA+P9TaI3HNsDgf25YwhElQBSzFHvTzEHAkTOZzkCoO8AMHk2dq1ouwBSZKzyDgSvAoC1vR8+qRMBG3DVPsG0zwNBKkWaK5DLA4Eix6cJYUEDgSLHpwlhQQLIES7+VLTjASBzIZKQwRMBIHMhkpDBEwOFeiYMEk0PAPIN5uMSxQ8BF/Jdn2aE8wHCJ82yuGgnA0Al0vatIJcBYKfTMTxwgQGra3WSPgzpARfyXZ9mhPMCgJ0N7hZhAwGu/4lq3G0DAvQOWynoEQcChZKSHfmYzwEAyNYGY1/Q/zdtf9mUmP8DkPThl1vkhwJBWAelVbSRAQFIIPMTRAsAIeuuVD7UYwBhMAqq4KSzAPbKfJV+YNMAIeuuVD7UYwPACcJ3uIBvAoGxPO2QfFkCQUj5GlfcSwHBedbMtegJA0O+SIDlxG0CuNZjctkFBwJXvlomm7T7A0O+SIDlxG0CgxZi6Tnr2vyg9vx1ZQjTASG0kHM1ZO8DOdDN/j2k7QM50M3+PaTtAFsMNRu0zQ8Dh5WsktpNGQFQMvc/07SBAFsMNRu0zQ8A08p9l6i9EwCYjZ8QQtD/A8jh2dvZvQMB5VoxAYO8+wG94xpzE/ELAkFVp4Yb7O8CIomHy2Zs0wNtsPD2qNkPA22w8Pao2Q8AsQ6MYlRwgQPguHmdGKCHA21y+qSvKR0Ced7I0Lpc/QCBQA1SHayLA21y+qSvKR0CuXjyji2Q6QLNl8XeTL0TAKZP+W88oRMApk/5bzyhEwDWig1BS1WxAtHqsouMwRMD5x+rfwSxuQGbVOzJGRjpAdKWSEX17L0Bm1TsyRkY6QJ5yFOR3ZTZAAjRloFSvQ8B0uxW6eDovwHg2Jrx0GhDAeDYmvHQaEMBzvHlkxkVAQG/OclRriDzATg0KhG4EP8DWbtLAwC4wwJMKC60mOT7AVwnxeFz9O8CTCgutJjk+wId70IIXKD7AY0hONE8QQMCHe9CCFyg+wJShdy0mWCHA+5TH3pddNcAQRGsEYzQvwPuUx96XXTXAprqVYufuNMDA9WuP2mb9P0aQDTsZRj7AHdre7/g6N8AlSToJL55BwN5I8oMFeDVAiHvEoX/sQMDAo+FhJ8IjQKTPCa0muSrA/2qTH+0zQ8DpepY+Ic1BQPaoCPT9CTnA9qgI9P0JOcD2qAj0/Qk5wKU6T3AHWTbAO2WMKhNSQMDNH7YpzX8+wG/uCk4D6DDAKP+aBtduJcDr6oC6vNIwwP7ItUFAu0HAU/GmuiKlM8ARwrx/w7dCwGgEjr93ex5A98ARL+ISRkBmKGocobo4QGG+5gdz/ELAAgjnVEDZV0A4m4sqU0sfwDVW0H0RCj3Altooo3VxQMAgi8Yy4BQTQO1f15J+a0HA7V/Xkn5rQcABaFtmH6NIQJdQiKaOTENA4RFr7/K+QUBCMOLZbLU5QG4km/Q05UHA3WIi1jXLOcDm9cdLcyc7QCCYYZ1+7B5AAksV25UCO8BITuZbiepAwJctoVMDXTrA6GrYo3RlQsBjS3ZfgB9CwKrXHu1J/DZArB3mmFyGI8BkVA8o7xAgwG4ccc8bmTdArB3mmFyGI8APQ9EkxG9HQKtCNFURnUpAFMtN3OJlIUA4Oq1yB6MkwOjvoOTcAjzA1ljYioe1OcCAYFKOVKo7wHQJzCrJIzrAdAnMKskjOsAgHy7vneYgwCwVGrpVgCZAmM9fIbJlEUAgPp3JjoQQwOioWFkvCEHAO/1xfCwDQsAAJ072DH3Iv1oXuQruEEDACqYT725MNEAKphPvbkw0QMrEFoj3QTNA4JI23WDyAECzHuqs2mNCwMaxXqBLBT9AwDj19xO14b/AOPX3E7XhvzJlQDeogELAnD9aDNyqKUB4q4bPKG8sQECsKPk2bVFAbA0cjuToIsDQIcN6Ft9BwGwNHI7k6CLAQKwo+TZtUUBulR9gLC09wJK21nia/DvAGCtmgvTjQcAYPbwXoacZwKvYsWng40HAMrAIqZTrMEBES0cZjd0kQI+TrQ5P+EdAFiffxzOUQ8AiC4TQwHc+QI+TrQ5P+EdAFiffxzOUQ8Dt7h/VuPxCwGrJTiWN6EHAcwrb3nFLQECAHrkil1rkv4AeuSKXWuS/gB65Ipda5L/YkFlca6gcQIAeuSKXWuS/YkNjWoBVNsDagscP9TVAwHgEExTf6x5A2oLHD/U1QMBa90xcQ4ZBwHJJJaYwXkPAEJIHKGsnMMDuawvfCnU+QL+hIQckZEBAoEPhJPCmN8BQ65olCLIVQGDePE+MiQHAYN48T4yJAcCb5s+gp59GQInkAuDmbTjADUJw3haTO8DOOW9RQEI+QNCQX0cuDwBANMp/v4mSOsB9X69WqHxEQDLjcPEFwDNAOIhx7BscJkA/TiSMAMFIQDLjcPEFwDNABASgCWQ/JcCFL6o5r9o8wKPRWYmabU9AkXxdnjqxPsCFL6o5r9o8wAxK++2CwTbA71HxrLbdOsDuy3medZ0xQBLYoZ9xuzRAqB+pyjIYGsBZSadbZaVCQEQFCc1Myl5AIAmi7ny1KMAgEzg+1Or0PyAJou58tSjAnE07ptq+IcAol4d6fdUdwCiXh3p91R3A9PVRWQRLL0AkudCUZepAwGiORpQcaEHAtAzgGcSTJMCABDnQkVX8P9ZLAy4HJjNA7qDDfowoNUCAGqCB+acqwIAaoIH5pyrAzLfgxv74I0DhtQ8ZP6o1wEZBjH1hBTdALnVF9cGWNMCgQmbB1XoaQByatPQRXSTAHJq09BFdJMCJf17/gHM7wDBwceEONRZAmTdGR7kWRUCsmNrFLdAuQJqM3TtI3zJAgGCn/sTW2b8AMC4Vnhv5P+SCbWqy8iPA02j/npaIQEAe1YNHVi9DwAbGvFJCMkPA02j/npaIQEAjxYRVlrNDwFSmIZOMASRAVKYhk4wBJECCCpMrPGI5wF7nUWerOjZAPETYQRp8I8CApJr/52T2PxhTr6trtC3AeLqrrhCrRMDVyE0ZlXVPQNXITRmVdU9ADtYIPGzlQcDERfdhgGIuQMXyeVfxbTLAiYluE7zjQcDERfdhgGIuQDdMOyLY/0JAN0w7Itj/QkAEd6UzVT4xwHdfnnhK2TzA+TkoM6d2Q8D39zpfhzUywDis+UhFWSZAaIGumXeoQMCKvRogvac3QPLqGgmXJDZAA6UyXS8nRUC9ollkhGRGQIoXIVvgNTHAvaJZZIRkRkAK1rAa0ZIyQAOlMl0vJ0VAOfQyCQHYM8BgZrQWHvwWwCq4L3WQ/TJADiFi7/nEN0ARqnbfT9lFQIAf8PWmAty/8PsZAIKTGsARqnbfT9lFQJqSjjTjkDFAw+swGdfVQ0AARkuNddrbv7JNUotgSz3AlGT21+DZIkBEecr7HmYnwER5yvseZifARHnK+x5mJ8BEecr7HmYnwDSOWuWywCHADzknd3/ZRUAPOSd3f9lFQAqg3zcXXjdA/bBejIYcN8DAQYfUObbkP3YALAkYmULAcO/GUMuHFsCYwGg+/iU0wJjAaD7+JTTAmMBoPv4lNMDcd+EfNnMvwNx34R82cy/A3HfhHzZzL8BY7gn1/LItwNx34R82cy/AsJ3zszCRO8A3bYybRU4zwDNwUaN9g0HACjL1dP7HQcAKMvV0/sdBwGCqO5G9zhDABvuNh4xpPUDwl0bnxHsBwCAmaNdovCNAICZo12i8I0CDz0UcWvMzwHKYDPPhezDAwI84L/6aNMDGILHioXc2QC0BZrmbHE1AEkqKEGg1NMB0siy8PKwiwBjYEDPM5RpAEkqKEGg1NMAI3G85myQuQHAaLaLiYjDAmKA0YzyLFsAQSapGWLIFwKmWb0++zUtAet9a+u3jOkB+YI99gg9EwAJWPHbSNTJAOc7Mv0YHQcACVjx20jUyQFMECRuQvkZAnjasYpYAMcAVYjrB7s1JQIMbi7KMCTHAYvs57v1sPEAmQ1Jd4kwzwPQRFqAdgijA9BEWoB2CKMCjJ6ZQjYg3wE1rqDIAjk1ATWuoMgCOTUAX3998C8RCQAkhyhdtykRAIYzuHfCcOMAhjO4d8Jw4wADmahPKV+I/EPl8OGDYUEBgwUZJMqsqwAhC6ApjCi/A7J3VdLsAQsBcCSn8RtMpQCJJUdH+WjxAlHL79fI5QsD6LXwGWZpCwA+dlVNzMUxAhXmAfqOlMsDIr+WKdjU3wGS6bvAJ/1dAZLpu8An/V0DKuH6l9Bc4wAQ+6aRSvUHAQMr+XZvi9L8k/pyrZ2wnwODbZzPikznADAZRnYtFKUBYRsDc3xMlQAwGUZ2LRSlAjdfcrIAOQMBemkcS34M8wODbZzPikznAry15r+lRREBmbTLgNsNAwM0cCn8KfD3AZm0y4DbDQMA4DmBXw0AgwJZgtCCQnT3Atqgn5p79VUCWYLQgkJ09wOSPFaZgEipAAGSnB6LDKkDsrS4qKfMuwF4HtIVboDjAXge0hVugOMDQyk/6pn4tQMEqYhRfDjnACJMGxx+DJUDWamOcHd84QAAO+x6jkO8/MoqF5Eg8OkA6uTLyerZCwLnuWehRAjbAe2+eVboCTEB7b55VugJMQCHn4J/Cc0ZA8B3X7//MHcBww8ndMixEwO+o9fi53UdA9yyEMB84MsCfTgtsW39JQLybb0cwLy/Ah5xxOXeZOcBLmJ0Gs91HQPs9s3lUf0lAvJtvRzAvL8CIYAG95LwXwMikuSRQRylA0s7qOHQ/McD3LIQwHzgywLfE7fWyej7AlN0YxGX6JUBH2aQgIgVEQGYqzc0I3jjACGtgIMhBPsApo9VFJixHQEfZpCAiBURAmzKy5YiNO8AcJg1KD1VAwBomZ1CfFDVAYJfc5tplQcDQyIOO8v0uwKCYD4KRxR7ApNwgO+KyJECk3CA74rIkQIBktYkUUSVAOG7PTkzXKsCAZLWJFFElQMAvCN+vIgtAa+uzoESoN8B09XES0HA/wEAGE6DULeu/oErU8utg/b/n8D5STeZEQG3kQwvYwURA5/A+Uk3mREDJ0+sY0cFEQGZUK49UOUHAaakjkuUmOcCNHCedI2ZBwGmpI5LlJjnA6HHt8nSuQ8A2r0omBuZBwIBrdPX0mELAk1JrYUSoNsCQULCacGQ4wEi+HxfBPj7AGPAVmoyDQcBFaD60aJlCwJuFWysFgz3AGPAVmoyDQcAW24YAQfA9wOrJRmSt6VhAjr/1uhs2MsAdjVJYyzUywOrJRmSt6VhA4lQ7AayrP8Ag7Rkcr0tBwOJUOwGsqz/A9jo7VPY1QMDedgckTUEyQFh/WsbkCypAyQsRH3PqQMBlrJatzAFCwF4z0dve4kHAsEhKMU3rQMBlrJatzAFCwFWF1JvEsjTA6GgneIfFO8Agtk6r5McNQJ2QABrBTDLAQK9ygHDPPcCGJFa6sVQyQH7TNJAPIzJA2sLcnQgjMkBcx/bX76UpQIB80mYTG94/SltzO9vCO8DgWbOapWMzwIB80mYTG94//DG81u1hOMBcx/bX76UpQELbs9sADzFAYC+tbBft/T9w1R+KNF8nwOjyixiTJR/ALCw2WcwdNsDALl5dsbIqQCz30YrCPCZAfeUZuYVHPcAcIM3praAywPcZ/tlHZzfAiSOjzf4TREDsAvsrPK0xwCSCybaFvibAgAICfpuc1j+gcHM4YFoswB0SiZHtJzTA+oi+TxotMUB0KRX3U1MuwHCvl9OHLwlAEJhabtCNFcBh2JksMzs7wGlgSgYwqTvAXG9hKV78McD2JLn8TbczwGV6JDZU0jTAWMlhO3VxEEDXmChCL7E1wOJ/HoWotTPAnK4OjbKDMsD4t2GFUsklQIF3cRZzijHAI2vLJ40VN8Bh8jmIVx42wJsFezJ9qDrAI2vLJ40VN8CohR4z2HhTQM7b3nyUclVAztvefJRyVUDO2958lHJVQI4NcsQyqjrAjg1yxDKqOsCODXLEMqo6wOCjOWeaJQHAwIa3eY+zHECODXLEMqo6wNBjxsoH0ALAEN557sS2KMBsKdzyLQUlwAOJiQ5VIjXAnx/2ED0qTkDA8VG4FQYKQOmzeylcDEdA5AokGRmuOsAfgv5xigYxwOuvrAZjmTPAendAeQx1OsD0bRBUZ6sowF+sbNMjezXA9G0QVGerKMDJDHQCq50zwIc9Jmpi6UpA+M1KvCXIJMAgZEXn36wGQDJ576VrKjFAwlqMwYqMMcD3rCo7ohFNQAHdn7MCV0FAJDv3davzIcBvZAJR3/AzwJBnRIKkdgvAOMdGUHZmFsAgW4OO4BvyP/C12Q/++SJAkGdEgqR2C8Agx7h7TyvyP4ABRaTiAQ/A",
          "dtype": "f8"
         },
         "y": {
          "bdata": "xl3FYWBBAMDIMeL6bpsRQI6mHHUKEQTADPlv8/Ii/7/GXcVhYEEAwDokgreDVPa/5BatLVryDMBwbfA41vUSQHBC7BSQwd2/2HJdOYoBJsAKzMD4OZ0TwNhyXTmKASbAdYBT2HajBMCjbIx2C0AHwOLllA3uRytAHJT3Ow4FKEACDaIqrCEZQJaJ/GQc4f+/IjNvegg3F8BUDPhEkAfwv/xG/tlsnCNAjE5jm3E7+T/e8hTnim0NwJodcFhZdCbAZAV8dBDDGUCg82dfGjvZP87gH0AkpA7A3vIU54ptDcBYWmzn19HlP9w1PjNHJ/C/CrWPtlSdGsAojqzyQiwgQL+cX32Q3S7AeiAD2R5LL0BysS8F00cMwBk2itPjWBHAMoaReHOXFsDAjTGWyMnpP3WH3bZ19wTApPEdffsvKcCk8R19+y8pwPgNmh+pe/I/WOk1gmKN4b9swYh4fzf5v6+MJkBBrgbAxu/lvhNCJ8Adv074zqQhwDgfpOTP9vu/Or8ENYxpCMANKZMDEC8twNlx0DAv9xnAkCG85P5+6L9VzMIxRPwDwAmoDdbr+wDAmuXLBXPUJUADZ8haEHUiQJAajikhPw3AVx8Y0a1mM0AwIbcOr77hvyrJj4PcWxrAOGHNcT6//D+UgZrsxKwkwHgu/YYREPS/SRW1xzjFEcD8Q/NbFSUOwPxD81sVJQ7AmVuDPPEKCcCs8JI9UbkFwN5lxKOYChtA4sit/mCX+r+chLoVdT8LQMoKI+kfgiPAO6wSOOCvIMC+4ppOlCUQwEjQp9TTNQ5A75pT/kT+FsDvmlP+RP4WwMxEgVlYHP0/A5rV5n8xJsDxe5P3sUsUwESrc9o0nRbASPLeQ61h9z+g+C59XTvqv8iJIAZbDey/uPNVx2gL8b9EwSGFTO0RQNNuU6GQLS/AcEPrO1WlCsCwt77vXR/cP3k7OBcnIgbAWGRg0nL1E0DTblOhkC0vwCdFNGLP1i/AcEPrO1WlCsCYGLzAix4wQHTfzfZbnCfABJM1iyMKBMAyBYoSqc0cwFa5ilfx/QTA0LzocEr807+6HWe0Uh8WwPWi1JjuhgLA0LzocEr807/VNnyORXAfwELl1difoCDA1TZ8jkVwH8C8Ju+HKgwHwOeOOTyZsBLAurb2+ksRFcAWcPzmG+oFwCwJ3RbuSw/AQqeljiQ+MsCi39U2gvIvwIT/T3yjGBhALAndFu5LD8BV8fVVQekYwP48Qu/MxgrAIYMmIvR3EsD6qQqoyVgPwAD7diDWmQrAkC0iykcaLsD6qQqoyVgPwO0Z47dB7RTA/IoRrUZMAMCuKQn2xbEcwPCjYaoZbfQ/DsucL/8TFMCgDy2NYhAUwLqBJQ/OexfA99CLpWfDDMCqZkNwcJ0VwNA9cGpInCTA0D1wakicJMC0sR6QqWgWQAD9GV7wVvA/a13XrLoyDMAmZAElGOAbwJ3LK5NC5APAQ9hRyjZaK8CsoeaVVsQowGtd16y6MgzAJmQBJRjgG8C0DoYaD20dQBSUrvu/+xrAtA6GGg9tHUDLVzJaufUTwKsj+PmtdRXAwoA0wCGsLcCgPcZjjSfCvyh0uI963g/AgUzFK6CSBsDEGXRRvn0lQApSsN6EyATAClKw3oTIBMCKe7WrYNMUwPNQ6Rvm2RfAinu1q2DTFMDzUOkb5tkXwDTquB9KQfk/tp4dn9A+GsC7Zp2APPgGwAAhKS7TPu6/QnyZlbLvEUBI2t/jo/AKQMZTmDoNJgNAMIAfURNgKcB40DACja4jwDoreHE1ZgBApHHWnC+2EMCocZUqKO0RwDAfv7RAlgnA6RozMvpKC8DpGjMy+koLwFp+htPC3yFA/56VrtOWGMDkgeMogvcDQP+ela7TlhjArCLqMzI3F8DlAKHF08wGwNbj+dBuJBPA1uP50G4kE8BoQHpufwAcwEhU2M22pfE/MKuCRRacIcAnV/9POB4mwOyG1SXycfY/sJzWSYJTGcAQotkDbtEBwOrXTjUq/zXAGp29didENMCw9jBL5EgpwMYMsBBW6hFAX+wt3AtBMcA9yYmln3gSwD3JiaWfeBLA1vsYceheIMDwvVqWIaoFwGAAo9i2fNk/MsLFWJfBKcCwujkZraLXv5h0AuPgEv2/yK4s/2ZN7j+grxgkQ13bv0g3R7ydCPw/MEgYnEIO0D9jqBnoFv4FwGOoGegW/gXAh15YaSH0GMBSV2FyQh0hwNXhZiRAkQXAvizXUyVnEsATTiUvjT0iwKi9aXK7ag7A6AuD0KoFH0AyQRQcaxsSwE4BhjJngxnA1qMeeHD6CsBKovAKqKkMwKcWGI7ZxhTASQa4DPLcKsAGG/pkGJUVQBv6U6gG5BXAb1yMQhP1BMDywBIBazkNwJ0uefJJ/AXAcHpgZN1nIkCwX4ZJvBcKQHCUi1fMm/m/cHpgZN1nIkBQFtYdEfgMwPeylVBfvyPARLbUECFYEcDgh2XU3HDdv1AW1h0R+AzAAE1nmCxmGsAAcCA67SOdPwBwIDrtI50/EHsvQ/k06T8AcCA67SOdPwBNZ5gsZhrAlZBrPREbLMAl+JI3zS4TwMis8ux7wP2/AADnrMNM778AAOesw0zvv/HUqrIU6RHA2MJsvj3J679J55X6TSslwGDcPgKqRhTA8dSqshTpEcBUdw7g9fkAQMBsWuQd9AZAKv7APDdlFMB85HRJhlgwwMBsWuQd9AZAfXByLSmSLcBays57CLAKwH69EuV7aRfA049FahaBHcDcBzyuUYvxP5Di5XrA9wJA9ujCUciPIMDlFGimSN8JwORU9e6WfRlAG3DPuZTKGcB0b03p+af7v8r9RUjmuBpAeIHMUQnY9D9iXrbW0XQRwJzdywPSBBrAKhX7GCnRHkCc3csD0gQawAtVvX1fIgjABsMYK283D8BAQxlIZqDfPyoV+xgp0R5AYl621tF0EcCc3csD0gQawFezAb1xzwnAMaOONKI7F8BG7efqt4sNwNqhMvtmuwTA0h9d+ljZFMAxo440ojsXwH4XGmz2nyRAfhcabPafJEBlAV+uAYEgQFjiHPzfyyZAAFkbLHXTC0CKNQeGzE4VQABZGyx10wtAjLpIqzPPC8A4lOoX9A/7P/pEX6VlPQ/AwEY/sowT3b9DZHLm6bQZwObP6SWKnRJALlxtm+jPDsCEEIOLaNkcwHmLTu5l4hLA3J+kNm5eEkA8kf122oz9v+DgZ8AEFNA/ORMzbrspFMBiej2l560qwCnYBiT6+BPAZos+RwSgJMB724MyraoEwDMcAMqx9wjAXUp/01PGCMAp2AYk+vgTwJCxWu7+VivATgGnCHSBIMAhLaUGSn8WwAicS0YdPhFAaPXoFu4UBUDNOrRtFjUlQAbwzRY26B5ArhPQ12cRAkAG8M0WNugeQK4T0NdnEQJAADA8VHNhbr/Xr4alCk8LwGxdJ62JlClAGvxQonlKDMAa/FCieUoMwOICtxnTfATAeS1szSJjCsA8FM2E5rwQwNQYpDruo/2/u/o1kewoEsC7+jWR7CgSwDg/gVgtjiPAmKIqEHv/5D9UjZDT5vUHQL2kmLBc7wjATiaEZSiXB8AL51MjcpAkQHDzQXVVSNA/gNwYCmDRqr8wCPchWOfQv5aBusc8pRHA70A9L/vLBMDvQD0v+8sEwEMhU8eyKhrAdz368X/rM0Bg+HQA300PQBgvcNzdvwbAGHdzaV3/6L+QssWDbrLnv/xGYsVcIw5AsBAAXMJi07/0KUZd/dr6v2BH8QbCJsk/mPkN3K/C/b/+hU4d11wRQPD4mXJ7uSVAAIjGw9uCnj+YS11NyxLlv45guV/AjxLAbe1NeePSIsB08gbvHt0QQJJwVCeMox7Aiz0abqLkBsBUN+YDDfYewK6O/xkQtAjAVDfmAw32HsAAloISO5O1P9Duhcr4qBzAUvNbtkEcC8CcKLGTyRkuQABRSECes7O/7YrRAcHpI0BN+YSBtr8iwCfTy89kuCPAtLUvCokeBsAgQ2+aGvsGQFLzW7ZBHAvAyCSW+BvOEsBgppv2IeMTQFATZh4EUuC/vBPUweul+z9QE2YeBFLgv1ATZh4EUuC/hiu3VfQjFUD8j77GZFYFwJYL/LHDbBpAvutZjeN7AEBk4HhtVwsWQPD5/i6eC92/PPCEuMiAKcC8E9TB66X7P8MuvM+y0xTADmSlzUPsKsC54sy9tjkUwHvNLFnDRhvAUtiYJM/5QEBLoKwBHWALwEugrAEdYAvAYDeLOyQMF8BS2Jgkz/lAQEawpZLUkBdAcGuc2D4T7L94MBrC0WYSwLxabZ+6LQtAQLPJkQn7s7+Yuu6wJYQFwOAP/owUbM6/MG5M/evcB8D9yn0xWmsiQJjvDGaRJfM/AMgXj2ySez8SwD4/IiYewOAfiXc4nAzAm4qrHWRGIcDZ7waO65ARwOp0xQ1F/g7A4NMfXd5A5z9+JCVr5poHwIg7P7e+ejBACs8ujKlTLECA65ae2fEuQL+89+mndA7ADi51rhr8EsC/vPfpp3QOwIDrlp7Z8S5AEKLQIRAuBkD4TA0pxvgZwOGH+8zbQQnAYHJbkKap2b8OLnWuGvwSwDiXrVKemeY/kCxcCORk8T9phpS1rigMwHAbkHzHHBFAaYaUta4oDMDwtCLI6y0yQNe13u8lSBHAcBuQfMccEUBFiveLct0iwO5oGtDYlhfAtfTMfRXgEcAj/7LKCAQiwLiJklKxBPQ/SYtFW+zvGMAQifHjhB0ZwNliG3ORHCJAYpOKntXkB8BO8J1EMaARwLx3/FZXQgxAvHf8VldCDEBirCgjLwMCwCJPUaW4bhJASDUEmoEVFcDALGFPYe3gP8gTIEqSugzA0JhukzMbFcC+UgcXDmkhQEg1BJqBFRXAppXe1iLsF8BYFhj6NWcKQLJ2c7oZIg3AbBCO4PBU8b85F/dEhWIiwM2FOBUzhA7AbGUfMonZ9L9gkvQtsMYPQDDK1LC3CAPAuHovVaGZEMCA3WyNDUAzQBxP4retZPG/pIQu2+yxHkCucDNxjlwQQEr2gomnYQzA4L+NrlhQ7L8SgNGRCnAawMZF+s2QEwjAZAcIPbEQD8ASgNGRCnAawAkC7eoyFBnAhV5NATW4EcD0KasWNUUJwOC7z2Ge2gvAkJMz224NBMClCh2EF9ESwBLr0ZWX+wnAEuvRlZf7CcA9+FWcpHIMwPwGib7TNCxAwCrTLqtY9L8AwtGtH0sXQFgKNAtwk+4/3OlzPjoL+D+oeAequuviv24a2BvruQFApnSZl6+rD8AAqrzlP1yMPyDIXDu21ydApnSZl6+rD8CoeAequuvivwCqvOU/XIw//D4seatKLkD8Pix5q0ouQHaFmmS9/xLAfYnX9d5BEcB8cd/0z+/zv9SubktVXxDAvvM6CJQaA8D47fhIlrkZQITxwFaDeh5ARElsVs+tDUD47fhIlrkZQLDD6EiOoPe/oRTqgG0aBsChFOqAbRoGwEqTNseywhTAYg33tLpwDMDivrmYrDYQwLo6Zsht+/m/whSS56MYI0BsyFfn/XgAQMDE0cMTsus/fKvt8anMJkBgh6vuVOvjP0RoGKsroCDAnKiqiLudJkDCFJLnoxgjQBJVI6h3oiBAWIVedj6uK0BIfv7/DvsawE1jLMML+CTAlGvJiHwoB8CUa8mIfCgHwCTrXzGgpgBA4B/9wF2h1D9NYyzDC/gkwEh+/v8O+xrA9sOpIzIuCsCc0dHtx0IgwIYblMpAxhDA7KVNdHb+DkDSoOj+3YUQwHKu9MaqbRPAPF0tY17X9b9wKk0mjGAHwGsEpKoHASFApo6VeLLs+r8734/y2GkQwKYqKhU3TBdAzXs0dhneE8COtt9t7bv/v6zXmoKqg/i/cDsyQcES9b8eHycr+dkTQABgG2lA3ee/AGAbaUDd57+w4BUJ5nrmP5DAUDLN8Oe/sOAVCeZ65j9UWTOte5ojwHHvrL6pwhLAC8SqYavsGcBmbFggXh4lQGRqZm+E0hdAVFkzrXuaI8Bx76y+qcISwM8gI4ne9Q3AzyAjid71DcDLjTNh/FsTwEw23lGgYhBApWvC+nqyDcBMNt5RoGIQQHgjiDDE4Pu/cHLm7+dEAMAEHeZO8GsHwPgwr1VorSdAgVrPn/63BMAw2zlQMSkowKYD2M6tqSnAhPmQPCNkC0DJrE061PMMwMmsTTrU8wzAfiYTZKuiDsCg/Lw66zPPv4WWmymgyT1ATLAMUr9FF8AAvksl1iulv4vFZbQFLSTAtnoddOFuA0CU4jwRTHkKwACkiqiBe/S/PKMXLWLhLsAApIqogXv0v8C+7rjEARjAPMGYBcR2F0AApx0CNXO8P5KHB9v7URPAmBjD89HiEcBUsayaLhAcwIBolVHnsd4/qNGIcZVgDMA0zfQOoYT2v3mGCXQjQwTANM30DqGE9r9QnSm+V9QVwLwpjErJ5hLAgJ+6ju4Wuj+8Som/o1QhQOwJTOcVpCHAKCsK3yME7D/uZDz9FjoaQNXPZt76TRDAlqOIrLqlF0BIcpefqOj+vyiTSq9eIDLA+FzuqO6dGUD4XO6o7p0ZQMyK5UVZBQFAtTmhJyPcFMB8T4HlA3wIwHOYjADXdizACiNjQs/bLMBw7fAj8NoMwLCHP4WjcxVAGI916a9HBEAYj3Xpr0cEQKxWAgfwFQ7ArFYCB/AVDsCjYQIVtyoVwB2Z7p7BzRDAo2ECFbcqFcBsy5bHK6cSwFpiiIkPJBdABRkGfM/jKsCLvI6LHzUxQJQnZtCuqSVA6gYLGGaQIMCvlcelpngbwO5PbZxC9wvAYLjv/2hNGkDQuKx4T5f3P6Bn0VVL780/0LiseE+X9z+gZ9FVS+/NP9C4rHhPl/c/pScKC/M+BsDr+5Xu14AOwGHHP25gGwzA9LbwG1iq+r82iONn+FgswEruGg9UYRLAO51UNo2IFMDQhW01LCDhP2cgSphtxwjAuOk4Wz9zE8CgYIgsZFUEQEruGg9UYRLAmC6lLJRcH0AqdgJLSDkTwIjpV9PE7QnAKnYCS0g5E8BAzQvdEAa7PwggiNSEegPAMiyXAQ+nCsCcgE+REuEEwIq4koPqBiFA2So66BbXB8BmeF4EVq8GwPh81nkF6QNAZnheBFavBsBe9LTbgjssQFVTVaGveArAb8pieCjdHMBVU1Whr3gKwLRYdieQQQLA8BILL56i27+0WHYnkEECwGCJwGrzv9q/aH7xyU+FM0CIKZ7v5S4LQNA5Nq8uA9o/JI9v1nSYD0ASMYBQ61oqQIOEtRHXqA3AbiPotZQGEsCDhLUR16gNwPxUj7onTPa/ABKGrXtk778GlndGTi8LwMlVBW4guhDAYDd8IIzgC8BhqNw2uv8rwOGX3CY2jgrAhJhnbMMiJ8ADcU1ljpkiwFgHyX8DvQVAoFKVUoi0B8CgUpVSiLQHwKGAPJllagzAv6twXKOxEsDw9SCO4WjnP6BSlVKItAfAgiXNya/T+L+dUzkOWwMCwMbD6KU+IhLAArSQzJCGGcAwrmph2NTSP7z/6Tv0uAFAM+HeoAivAcBAMtyLFhy5P+HgRbkxQQrAkfsx97N/LMDA9xX3dcq+P5+sM1sIVBjAbKc9jjDP+7+A0HH0+sOuv5+sM1sIVBjAu1Nxe1xQEcDwNKx9D7TZvwToMLzDFfc/8DSsfQ+02b8OSiXdOlgWQKwz3XVP7PK/XG8mby8MAECCtxPEglkIwJq4AIH0ZQrADP+z8T+o+D8rP76PdmcOwCs/vo92Zw7AMJBDk5DVIECKS+H9DST8v99jq4l44RHAkC7LxgAS0j8sjl2Pe88VwDJdCJ2EVhTA6Ix3OQfa4j/ojHc5B9riP8BPuEgifeA/0NW7/XfG6b/Q2SSBdHATQIAkyipbbAdAeqHwanDvIMAAF1WUaZPdv50kFWaZAQnAYqZtl4gXHMDgk8ET/4jRP6DUlS6EZBjAO4BXzql5EsBgPCrEoTzYv+CTwRP/iNE/WkKswLr4A0BaQqzAuvgDQIiyUW0fJw1AWkKswLr4A0CEUSIfOi/1P2zmJh+PexdAGHLrP6k4AUApJASR5N8CwCkkBJHk3wLAgF0uvc5LHkAqnHcxulMzwJUQoY87SiDAjACU5X8N+7+VEKGPO0ogwELZfkmo9BDAPQ78D5GOEMBIfRG4SKsjwG39S7FmKSzAo1Gfw7GoA8B8bPD4qAQWwKNRn8OxqAPAFNMdk5p0LMC1IZFrXOYswGE0hd1a8ivATAAEgBlvKsA+/D3bUn//v35ar5Yv1iTAXyrLfF7rCsDjvTzvYrAXwLpl2OPjzhPArsj5scCJC8CCxrIt7GsSwFjHUokF6e+/gsayLexrEsCOVjjr2ZURwDNM3MgV/B/AM0zcyBX8H8Bwa/paoabeP3Br+lqhpt4/HrVC9j3OJcDWOHJkLsAWwA9Ojy6J0SLABP4suuX/HsDU+odfUQ71v4XBAINpvxDAHlV5H89fJ8AEzdO+mDoQQJo0LFwA2hdAMg1Wq9QLDMAyDVar1AsMwAzopTBLkgzAoBHEHILg87/cQTgjwrckwMoo6Do0gvu/vvKP+IFqFcCWdVO5WmEMwNbfgldzfQzAlnVTuVphDMDLPY22bjAQwFMDhhfarxLAdL7I06rSEcCv81fnLK0OwKhRQB7iQRdAqw3QMstXB8C6TCMVEKUQQKhRQB7iQRdA6hKNm8NkEMBoO72voA4dQDIoEIfHixNA9toDt6/0IsCAMjkHvnv1vwxOMJiW8/M/nL0pM4hI9z+cvSkziEj3PzZR0b5UhAfAzOMY60748z9ppJT8KvYIwMzjGOtO+PM/iYTAv4ARMkC+mOWK5m0UQHEyHlG9LgPAvpjliuZtFEB5z6K1wj0xQAaknjzehDJA9ufxCmzaFEA0+2iStO0hQFa+CnHx7R9AVr4KcfHtH0ArS6AkO4IFwOSOiRA9cPs/cgd8K1YBEMAOHwglp9cgQGJYICwj1ylANYVT8EyrMMCgqnP8X58lQGDVptFFQvk/YNWm0UVC+T+B+OQUoxEBwGDVptFFQvk/sHkCPYT44r8eAp4p0mz2vx4CninSbPa/IRSBxNmqGsC8rntWnJw2QLyue1acnDZAJPl4LBfb9j+8rntWnJw2QAAxAmnlC6M/bFbwdsDDEECcYeWYh24QQPbdfFX9jSLAqO48ADK9I8CZbxxu5YsPwAw5rdXubRzA9t18Vf2NIsA2nybF1QkhwIxMOglfUQFAgp2uotnCBECcYeWYh24QQCKq7U1XQydAkop+xooWL0ARGm31Wr8zQOazvBRr9yZADi5aw+Zw+r8C9eJ/CLP6vxrKwj10Wv+/YMHuaDWO+L+Sin7GihYvQOvg7i9LsSFA6tDNfooKHMBAKKzl8ezJvxdfD2UDUTBABJHJpid2BUDq0M1+igocwOvg7i9LsSFAQOxPo8f3CMCMPtFxSDcNwELj1/7eZCVAvta2qL/hJ0AwZjW+1VYSwBAWiyu/JSlAxjUGxncLIcBQ7pcJ+hjcP8Y1BsZ3CyHAeBarU0nkH8BisBLerkknQGgt2RvTa/4/YrAS3q5JJ0BoLdkb02v+P4q0qaEwE/6/4t1sJxphEMDMHaxk6uUIQMwdrGTq5QhAdPYvegAr+T909i96ACv5P7VUFtjixi/AvGwsTEZNJcD0X+i2t8D1vzqaSdF6DS1AOEmqZJeh678UfwdlAgkTwBvMMVXrKhHAQ02iqzdYCcBGW8WcLSUSwDhJqmSXoeu/vGrYiBV5DcC0ZlY/xfsnwAv2+Yk0miRAMPFNR8U5IUD6uvymobE1QLhROua0QuS/MPFNR8U5IUD6uvymobE1QAv2+Yk0miRAAAR3oWOpAUCpMvQTw4g9QJXZOwiIZT1AdA3paCMVJsAABHehY6kBQHDC6jScgNQ/CMo5PGydB8C4tSg662Tuv4fQfYmMDSFAuLUoOutk7r8Iyjk8bJ0HwHEVM41TPATAcRUzjVM8BMB7s7HMvhYVwMHCQ8kUBCBAUHMK2/gE67/QlHreBHr+P8CBl/3YMMy/iLcXnkgwEMBqEzBs7MMVwOCmDbaz1cs/4sciUIAbB8CAlvREnTzGPzhwzg4cYADAgOdPyUbiwb+A50/JRuLBv4DnT8lG4sG/OHDODhxgAMAuC000Z/f5vywJ4J4fUwPAJPVMxEMZ/b8qkNp23mb5vztzuJH/BwXAkRZcvFsqE8Bi+XseWoYmQNAE2lxZ9uO/5IJlhJVsD0CAepQ2B3ADwClYGL9+kQfA9G6mYe6PIEDkgmWElWwPQDhWFmCJZh5ABC24zOoV+r8a1wQz3ZYewCbzEqzt0ylAHr1hChQjCsCoRa6tNh37v6hFrq02Hfu/2bpyhDKKAsA+IRkYd9MAwIRaU9CJOvS/YEf4hWYgKkBgR/iFZiAqQOgAYXvKb/K/+AjDdJ96BsDgLPoL/YEOwIgRqtFbBPS/4Hyhn3kD8z8h5DZREio9QIgRqtFbBPS/4Cz6C/2BDsAIZFtAYXrrv4gSlDpKfg/AKCH66er+KkBa2EeWZyodQPSeJrq0sA1AWthHlmcqHUDlx8ZFIRQkQJJ7WHw0XytA5cfGRSEUJED9M5slVoUUwMRUSXJNAxFAVf0aYHi4EsBV/RpgeLgSwNJ+vFCRJA3AsICVMqmM8L+6zggj3U8AwOYENeyTNC1AfHWGRdF69z+vS4woDKoIwDpCZOusTiZAr0uMKAyqCMB8dYZF0Xr3P6DmXzdcve0//BApFbXL8j9MsRK4qukfQOwrWlqSePG/zMWt3t66AUBSTyy+g3r5v53ZhYVzuyJA4EQ265c1D8BkHFfxdSYDQFAdkYdSutI/5JgX7gTeF0DkmBfuBN4XQNB598rJc+K/jNkIEa69EMCM2QgRrr0QwOXo+G6m4ArApq4OrhdMEcDobORqlc0DQAS4paPzs/0/0LGjg/4P4D9y8gsBQVUlQPW80GD/0DNA6GzkapXNA0AQa1VCOkzdPwC8GjUilsw/BWULtTj4C8Cey6bBIKcDQNRy40+eW/O/AKdyOcO6EMDmk2L8qOQoQHTrCLuG1v4/YSgHPEvpI0BiICb6XIQaQHxTA+qLXwpACP3xf0si+z9iICb6XIQaQNihlj0wLQ5A3nWeXKp+FMDNUMtohZ4xQE6AbBHGCTFA/ANbZlG+I0AKl8KYVeMVwBVsxiFaoAnA/ANbZlG+I0DwlzCPk5LZPwDKtwiJWx9AYDMJUket679YrJfvdk4xwFisl+92TjHAf1t3+O4hEsDYHKAnLmwCQDI+bmYFHSlAf1t3+O4hEsAqXBmBXukQwKpQJZjBT/+/KYVVIRvMBcDbVCLCGqIJwCc0YZdX0wTAjn0uxXuWDsAoL15+TTL8P0Zhna9YfhLARmGdr1h+EsBr04W8fz4lQAREzp2IcBRApGPdRTTtDkDCt1cOpu4kQGhD14OtsAFApGPdRTTtDkDAJyJr/eU3QFXNRVoppxDAaWFh/A9nEMBpYWH8D2cQwFwnmp9edz3Aij9LTsmxEMDxmNUBp98/wADMOLE7OCNAQqruo5L/KUAAzDixOzgjQKnPxYbgsjNAjPINWD42EcA8cdihTMQWQIYrx3u1WBxAhivHe7VYHEDw9BvYbXMzQK7a6oVrVfq/iJttrGuE7z807pWNRaz1vyBx60s79cW/jKDJPOr3DsAgcetLO/XFvwOw/OmCqhHAWL+0Y/8cD8ADsPzpgqoRwFkpjE2xhyJAuIY36YZQB0AOFqUISfIWQLiGN+mGUAdAmIKplo9tE0DKhuNiiksKwKCzvZJFOc2/eLuIwB6t6b88MMWSgQ0RwKCNnXsAFBpAkjgDyihOBMCWvsgPXcIUQHeX8R8CcBzAX4re3nhvEsC4LbPhk3EWQBgnRiFsExNAGCdGIWwTE0AYJ0YhbBMTQJyE/A1ARwlAij8/jxrH+r+w4KR4tHvyvx9+XOr7NSJApHylDP26K0BEpVRW53sTQPwZ5Uu8xRTALAeyjxtu9z8cZJ4XjMUSwOzMa5YaeSFA+JyTpMC2A0B4tIMhauEFQBRAHWUIKwXATPbrjDnCNEBsxSApFAIQQMDrzZsV1uI/I+hsKGDEBcAim0wS/eUUQF177+i5vwLAXXvv6Lm/AsBAX7CjhTkDQK7EFx11FSHAd4XiipMsI0DIuu/wWo8EQNjcNqmESADANKCyNti/F0DYHs1J4wUrQBjQm0T4hytAx70wBBo6EMD/vps52ugDwLAGZx67pfG/VB1IN9wy/r9E4v5HetgPwOXMLYb5whPA5cQ4DrZ8E8BYGbVuE24HQLED9qPwtz1A5cQ4DrZ8E8CRAjPIMVYzQO4YlTwFYCfA/AaX7pJ+EUDBC3Dotd0FwMQ4UXoi9g7AbN2q5s5V/D9iBX6xMBYCQCBHNyA3/si/IEc3IDf+yL8YYmXjn+DuP01iyxH1VyfAmBh1FQAGKUCaYVs1nUMcwP4guN7ouAvA6LIg3hy1CMDkTVmwjOYkQPITX1NwjQ/A7IMdoiNFF0Dsgx2iI0UXQHVNi3m5pTxARHxU5YCcG0DqWwr6q6b8v1PyDowE8RbAnBF6FARtE8CcEXoUBG0TwKIqIFvBDgfAFxe0+mjQNkCxPVZc9nIIwI3L8K0jmDTA6ACg7CDHH8AuctTV2nv/v+gAoOwgxx/AjcvwrSOYNMCAezP7epQSwFixAw1lZQ7AJ3b+W3pgAMC02KTQNuILwAMesSmXWwDAGzyn1Mi0EsAIybarTpEHQLrkm51+pgvALHw9uS8QC8BIKFYxBuoMwLrkm51+pgvALHw9uS8QC8Dvb7/NcsEEwJR95yhMcgDAOAwAqAhtJEA7LzFOFwUhQDsvMU4XBSFAOy8xThcFIUA2V85JDZsaQDsvMU4XBSFArBi38CNJCUC4DTNxYDrov8LSg2z1ORJAuA0zcWA66L9a8xn91YIKwI7QJf2nq/e/gDYful1iH0BUA5O9hbUpwIL2KPhAczRAA13879kUBsCQTjX5mTYgQHj4sDOFZPk/ePiwM4Vk+T/uaparIosdQO5ixXycj/m/nPA/w9fQ/78EfwhHPpwSwPbkPCkK7SVAEya6RswuAcAsHfy0AokbwEBKn2o1w/O/nwrLPs+uCsDIIuSfO9A1QEBKn2o1w/O/cDylWuk32D9UGR6kaKf4Pw9VQMzZBTjA289fTEK0AcBUGR6kaKf4P+AZpN5JzfE/pE78Wqeo8T//d7EjfKYwQPB/DW8i3R5AgKIdhCs74j8b0CzbIc4swFX+rtGrET5AzFwqnG4j/j80JO7AbArzv8xcKpxuI/4/0qUnJhmeIEC4XOu9hxEkQLhc672HESRA/B7HXI6MH0DgvINhjCcEwOL+pFdwoALAGPiHrAAnGkCx90T9Uw8kQB89GkL5eTdABNBm4BVIIcBO5EZeyDMBQE7kRl7IMwFA4NKWEax17T8sbnZC1TIYQLykcddHsipArDDp6uhO+j/fyjF1+ckhQMYE2llNhQNAxgTaWU2FA0BsBpnx72EJQG4D+yboGRBA9GAtSwjBCECC7nl1SCkcQBpFS1cOfxBA/QPt8YD9IkD63sTFdjQyQNwCnXoNSgtA2rdU0lm7JMBJX1s0DCISwPKHzyaTORLA2rdU0lm7JMCeflurf3oRwJIwh9irZyRAkjCH2KtnJEAQNudviFj1v+T69Q3guQ7A0AOhcdeREUD0BGOqAY8OQPJDA1l9LRJA/uje1WIJD8DQD2kERa0jwNAPaQRFrSPAejlXwfqZAMCSW9RYhckXQPYgskswbwJAN314/gDUAMCSW9RYhckXQCENQXzAgDtAIQ1BfMCAO0CE1yaIVCoIQJAtJ61W6vg/97CPzBNXA8Ao2alyrlwKQCiZoWuaY/w/r6Uze2HOEsBA1m7pjXYcQGAcKnIph9E/0I+7dwO48r9WMAZPl4wOwNCQHNm2GQhAVjAGT5eMDsDcTDvuZeYcQNCPu3cDuPK/YP++yI064j9QjYk6BXDkvwDghjyoBXC/GHLgG2AuCED4kGS37UchwIAuqqIqP9Q/u9dVz1IyEsD4kGS37UchwDRlkj9M9/y/mhJ6S4zTKcAAM1XskNvUP9B2NlVgqt+/QP0Y850FCUD+dMDkoVkTQP50wOShWRNA/nTA5KFZE0D+dMDkoVkTQDBZgw2XCO6/lCn1tAtGIcCUKfW0C0YhwO0GKGWOgyRASSy9R2vME8B7GeRZm6AQwOTzpwO0fA7A8FDE/HsoEkBgnVa+6DANQGCdVr7oMA1AYJ1WvugwDUCY2Z828SHjP5jZnzbxIeM/mNmfNvEh4z+QJQ/BuPoRQJjZnzbxIeM/yO2+1qBm/7/QyXX02fv6v/32cjnwywnAIIjKG1HR8b8giMobUdHxv3R8jv8l7BhANl/2TwbEI0AGd8ocER0ewOqNldEchxDA6o2V0RyHEMD7n0lKgGgSwFaLQzWjnx3As4lFcuIFHsAEfRhQhJQZQKD3yFgQ/DdAY0ps7GO6FsD4a0hKKWcHwL2MXUBt2xHAY0ps7GO6FsBiAQhzc8wgwMH9IAnDZALAyzPz4esNE8DaKXGojqMVwHYbmr+WejPASFEq+UOgF8BmC17aIzMJwMLwfgzHMiDAMfrXEAOhC8DC8H4MxzIgwB8Ai+1kviBASO3i7AJqD0Dva99cDActwGIpBkKFLRXAHGFvLzNs8D92dZ73R7j6v1sPm49ptQHAWw+bj2m1AcC6wodqnn4bwJh6Y1joYg/AmHpjWOhiD8ApP3qRR8QQwNAYbzHIdyJAQJR1Aa9kBMBAlHUBr2QEwA8kaPiCRiLAdB8TbdsUFkCSScd4QncBQL6KgQhImh7AtHwYVbiBCMBAoZnw5O/SP4oJcUeYUBRAPIxQ3fImFMDyET0I7dwOwNSCsfg8+ybAIJfwx4d39D94Lb7Edcbov/JqR/sp/A/A8mpH+yn8D8AQhGOtvrMSwEyw+nhHxRTAredNn2lHDcDqte3o71oTQH9+V227QQLA3PlX8GvwNUCF7vzEk0QxQNz5V/Br8DVAqvqSKP8GD8AcBwPpKt75v39+V227QQLA7QA06oZJKsBigc+xuu4WwATgNAaW4fa/YoHPsbruFsDMFC0S44kcQCT/9So0PBrAVC9WSm67CcAk//UqNDwawDJ21C+CjBVApeYgUhm7NEBYn5WYBLz5PwFh/TaRggTAAWH9NpGCBMC6yZ+RcxcQQF8T4jrR5BHAAm+2mV76IUCB+kYEcBgxQAj3fdJKZv8/VpsctQ6kIcD3eFerHOMSwAAgneOHek0/9dv+d3adO0D12/53dp07QFzv7UIuxfM/ACxuhMMJ6z+ETTN3IX4QwIb+tbjMRxNArA1xxMrmCUD5rNlhKWAgwD5WElgYwBZA71vXMlhOAsCWNc+gTEgTQHERzW3pXyDAPlYSWBjAFkBAxhd6jnoeQIt1gEp14zVA2Ox8skU+CECsDXHEyuYJQFjn4wCCE/O/+ZYC/J49M0Ag2/KoTjADQCjhdBF9vwzAAHnvm5n2yr8SX/y57aQoQCDb8qhOMANA9sNy4mR4/r/Gc6Gti6z7v6rZerQjxitAuYVT92VFAsBY/8QgLIT5P4A4kI5KY8O/ncRx34VBMECdxHHfhUEwQFAVol7iQipAoO/GrWP1GEBQFaJe4kIqQGw3N6QJkwtAHKbvIH+tBsAYqjfsWejtvyar0CeqFB5A7OPBN2Ff97+oaOmorps3QCNO23n+GyLAqGjpqK6bN0Ccss6FvhsiwBOe7IJqrRXAEH9UlHPG17/pCcFqzTECwBB/VJRzxte/Ze0vWT1sEcCWP6i8lcUAwHTmLxFWZQ7Al5s1YeDHB8Cojnlvf734v8CpwTON+sq/076P+j27CcD4WotQwxgOwN4MjvpgU/a/076P+j27CcC/zh1Iyr8KwKR+35SDIC7AjGjmdyHcCUB8ypFCL8QJQKR+35SDIC7AYEQMIT72/r8kiK9mIYL0v2BEDCE+9v6/gIIO3wm96b+sIRS1tbbyP2b8CHJ/dw7A+sIe562wA8Cu4yr4rTcIwOUYEDzfvQDAPrDh+d7eA8Cu4yr4rTcIwBikE0cNThdAD80mLODcBsBULMKKriYjQOaJraNQRB1AeC4DESne+z9pPD3Op1IHwOFX0jDWKQ/A0iC5SFYpD8BAFdo1jOIRQMIQTNHewipAzuBixLbOBsCMt63Q37UDQMIQTNHewipACtNOeCFJ+b9AFdo1jOIRQKXuYRHKSCNAxvGX1KeeF0C4CBqLLUUTQCCl9V5omw9AgA2fTx5gEEA8z3H5TBYCQI2UtyXhSjhAIGdCdoDP2r/AI7ef9Iz0P5r+/3c6xx1AUkh7FdLvHUCA7ivaC4DxP9AoBWtx2vo/o3mfOeGWIEC4ZA2R4OMdQCB5O/2siw1AQtr5StpvLUAwkgLL/+X3v87MvCoTSARAGhCt0ApjLUBqiPY443YQQHSEnyQoCQJAJqH8ANnKEEA8rT3te14WQHjCBlB7Neg/PiEfuyiHAUD2j1vjRkcYQO51VXgNVRZAdt4BGhBaGUB8R/aOAFAsQBLR90+8cxhAHEGyxbVXEUACdAhxxWoQQD7+qu7RSgBAHEGyxbVXEUASf8yvsfhAQJGlKDkqEg7AkaUoOSoSDsCRpSg5KhIOwDRYJOd+LQBANFgk534tAEA0WCTnfi0AQASIJtt1yiVAIsgEQlUMG0A0WCTnfi0AQNP/G1LpviNAzF66sA8J/z/qDnSTlIcWQByNgRnYNw9AjNAv3LE8GEAmAkvs7pb4vyOAzBEhkAbAyLm/dfhsAECYvMGh3psPQPB5CH47APk/1K5/HU9GCEBWtbWVmkYmQICjVv7DbQHAVrW1lZpGJkAgwpGCS2n4P3r2bIpV6BFA5ktzA8xxJUA8oOXwlb0WQOrWcwiGgC1Asv0P54y2GEB08PQRblkWQBjlKhpEBBdAOhgW0y/kKEBUr4+6xbwSQMxG2gZujCxAKh4eyZNlK0Ca7msi/k0wQBBIteV4oTVAzEbaBm6MLEA/q4btxE4wQFB7KQR4CglA",
          "dtype": "f8"
         },
         "z": {
          "bdata": "COc8Z1bm8r/g+UjjKrjWv3Ab9CUI/eO/dNygkbszBUAI5zxnVubyv3BV+6DlyfK/4DkVwxn05r9s/9plqkz0v7D947PMGeW/AECVb4wCxD+Ieu9PWr38vwBAlW+MAsQ/KsM3nSxjB8BoULWVM0jrv+BUgxP8p/g/eLhywsrB+D+gBYJPhuPZPyA2uP01ZNu/8L48v/pe47/A+yvtPKbev0AQIUifceU/sIBJBTbp5L9YUxPGppHovwC6hStlhK+/wJKbIfPq879uGBDtrZcCwLyMvUGgnPG/WFMTxqaR6L+AcvX7v332v7AEepImMui/gORjLD9O+r+geN/MB/Xzv4DLGdWSsci/cNDfcVPu9j/+YpCpMOAJwMCiqnGkQ8Y/0Bzi1K2f6L8AoP8xUv7Pv2zTVZmNegjAAD69jz4Txr8APr2PPhPGvyBs8lxlZd8/mJoyA5aL678gwLfCQ+fcv7BWYJryC/6/AICar81WEMCgAgrUSMvjvwD8oHxpLqk/0oZ2OWcvAsDWF2y3gCYIwAAgmJKLV5E/0Aez3OQd/b+o5JsM0Cv+vwCtryV91eM/oH8XNRjl0L8AJ4iPlJa0v5jdSjZCwf0/UOkiDqGa4T/wrzuadNLiv0SZ8HyXY/G/IOmo21Jf2z9QgqdI/FLov8CmlM6/X+2/XMLBagtJ+L8QlF6j62fovxCUXqPrZ+i/NG4r98YU87/ImJecJysBwEChuCVl6e4/EEKHT0qS47+IpXThlF/nv8CJLhUlNui/oCc6aslV6b8A1vJRSGPTv7hWY/wCdPg/QO135tfgyT9A7Xfm1+DJP4BkdaGVivi/4CsxwQCv/b9At/GSDnvKv1Ymi4+MHATA4B/Py9WR4L+YjFlKzs3tv3jJa6dLtfK/yKMnu1d1AMCYm4r3FML2v4BI2bdA4sU/+LnHsfAF7b8oZStUhfrxP8yrjLbS2/m/wB4AX0Stw7+ASNm3QOLFPwAMISAUkb8/+LnHsfAF7b/ICbtjj3EJwHLRnPILPw3AHPy0CYmX+L8wlrUgLiX6vxh9Qtjupu2/AIJkXSCJ17+AzcNs/ufLv4j006GnCum/AIJkXSCJ179gbVU4P4/bv/CohubuBfa/YG1VOD+P278g/9NMPszkv7JIa6XiVwLAgGHiYKZBzb8A+jJj/+uYvxhKE/fIBum/gHXl/w/Ayb+ArTyH3knCv9hCOJ0VEf0/GEoT98gG6b9QdNX/u8nsP0Dpa1K1Z9C/kHPauQ9s6L+A3ddDiq7TP7waPqAEZfW//LisU3Ue9r+A3ddDiq7TPyCbjjpu0fO/4CHzGtt32r9QGXLjWHDnv4DRiO/fR+Q/oEGYrI4K5r/gb5xMIDXov3BoxYb6WOW/Fr8kAMIMBMAA7mrryA/Pv6S+GJUlzQbApL4YlSXNBsAQRgBoLdj9v0AeHq+6nOC/ALs7wcxVwb8gDWwuA0fXv7ANNoBST/S/YGA9fJm35r9Q9IY3WWrmvwC7O8HMVcG/IA1sLgNH17+S/yqZkuQIwNAc+tT6PgPAkv8qmZLkCMDArtigS0fFv+xmcLMF5wTA4LziEKF48b+UdpdgUnn3v4CqpxiGkby/OLe6iuG187/gN702i9X2PzCqXhMFH+2/MKpeEwUf7b+ABRjYme/Gv0CMh2ZXZMm/gAUY2Jnvxr9AjIdmV2TJv+SHHZ7OhvW/cBqDxPNY+b8I4zErKlzwvwCq0IoAYvO/kGerKFaV5b8QmCE/XhbpP1B74vOcguQ/gPIs8MW96b/E7P8O3R76v3jXeHWwj/S/ENKY8Ea0+r9AX9emUPvvv6Bdd8RNxey/YJwPCeL54b9gnA8J4vnhv/CMSTUsy+2/6MBe5VvM9L8o7KfTCbT5v+jAXuVbzPS/IEft3E9k778gWs0rYHn3vwBxapa8rdI/AHFqlryt0j9QI1qTFWvgPzi8GzoApPG/wI41lnio/L/kRJzQSZj9v8DFVxkaieI/VL6LvcwI8b9YlXqXr1Dnv+BSN+poI+W/oIBoRtLO5L8AfAiXuD+TP0R/wIk4+f2/7J0Dnjn38r84Q+FEpa3uvzhD4USlre6/YMvT6pHC4b/six7IOTnxv4ik6DujLgdAQmGRFnlkCsCgD8qo4o/7vwCAn4hL2Ow/sC58DYy65z8832MFxhv8v0DeDHdFA/i/EH2q/iCX97+i/hd//SARQKL+F3/9IBFA4LWdDIdH4r9A6KEwhLbcv3wJ3c3pIwNAAJBBzdJn7j8AYahEAoHVvxDUIu2VBAdAAGA3PszUk79AdVbdwqXjv2B57P62gtK/gJ/ZdqwAtj9goQeNTsLZv8wRmCc8nPG/INDrESwQ3r/AJ0h63DTbvzSQAhvlufC/nOSh9ldB/78A/OeBlCOFPwA5IcXx68m/4MGaUkzP07/wkz2PWDzmPxDMF1cNUOA/4MGaUkzP07/YEmo5+UD4v8zvsWS24wnAMI3MZXUq4r8ggF7qWPfUP9gSajn5QPi/AJn6qK5Z078s3TAqLaDzvyzdMCotoPO/LC2gGOZx878s3TAqLaDzvwCZ+qiuWdO/gKEEpIVTvT9oqVafUfMJQOBLSbbFYOK/+geP8HdVGUD6B4/wd1UZQCjL8HEVofS/1KNNnJ/99b8A/07C/+TTv2D6CSaWzO2/KMvwcRWh9L+AIjr1hF0BQDQVvYI+ePW/QDKl8/a+BEBAPtFMu9zuvzQVvYI+ePW/AFHeM3iZxb8AJNfnOJnoPwiC1oeEB/6/oP/Midt87L8g/CD2sSH7P8AuXSJj0OK/UIGoYGup+b8gHFuhGSvmv2AOPuFXr92/gLom7qi1DUBk9ewXJI0IQABVrQD3QrE/AMarxoj2mL9EHJgbK6b1v/BUGwFaVgpAQHBdefCJyz/wVBsBWlYKQIyT93j5AgdAgIqh+6Ddtb/gUT74Z27kP0BwXXnwics/RByYGyum9b/wVBsBWlYKQCxRzEmgFAdAOLk9pXct9j8s5PBU60AJQMA1ofmsENa/8FbLC7as5L84uT2ldy32P5Sg6eF6FgBAlKDp4XoWAEBA8kl6Xb8MQGBaUgV/GNi/YHE25LwA4D8AvMxMOlENQGBxNuS8AOA/PDsmfMywAUAMYzgLNsEAQJD3dYnwu/i/tkMGySAnFEBI02Z+SmIBQFgI9qynzAJA4JYXKfUC+L9YvQLrnjj2v0xS2QgNs/q/QN43XADv5b+0spFn7ygCQACbO/Vctry/MKPE7G/C9b+A6rncXKvBv/ACiNTOk/w/wGHMQsYb779wuCbihRz8P5iQ9S9i1/s/yDj4Npa18r/wAojUzpP8P+CrxoWsKeK/YIzugS9i6T9wH7kdVejiP+DuxWwhsOe/VLPcF0Z+8b9Q2Pva1uX8P+DZiYQET/k/8EtAsMnC+z/g2YmEBE/5P/BLQLDJwvs/2Fk3vzTe9D/gPQZDrvTnv0RG+bWLDwNAnNHpobj2D0Cc0emhuPYPQFQ66WvU4wpAkJ022TySAUAkKdO1IhMTQLAzou4DoP8/cCcYdigy/D9wJxh2KDL8PwDgvGHL/pK/AGhv/iFjvL8AbM8lgijXvwhEbtobWwxAABHgBiI/xT8A81iG5pDJv06A/thA5hBAHvGY4r8JEECI/ZBvGVwNQDAkxTWxWgBAVE9BoBEuAUBUT0GgES4BQIDRtFylQQpADEjEFDZ38L+0XEkQ/DL5v7QVct09xxRAWKIaONBO9T8g40pE3N/mP+STwLF5GANAwIGNGTHu5j+YFXfM1Ojov86hpqsCXRZA8oUhwJ2JAMBYWNPJdFn6v6TGfGFBAgtArInaztioAUCwjQ/5PtAMQNTpGDqcQRBAQL6P0iPB1b8A8P7rBpvbP1jXYMOgxwlAhBO2n8NpDUB2bTicCJwUQJh4OjnCB/s/dm04nAicFECQ0WD+4XL/P+CGTQPDCP8/UFwK4xV27D9ImiidCMbxv7DOSvrHReS/0BeBkXUG6T98F1AAYu7wvzZMkdwoexZAoGgaSLvIC0CQkPUv5f4JQFBcCuMVduw/UMj9G5r9DUBAx7ZfSgLCP8BH1WXjscS/WFT7ktJWFUDAR9Vl47HEv8BH1WXjscS/MHJ3KrF74r/4lGFPxjPvv6Di1LQ2Vdy/gE/Gqd8Jwb+gtikHU2Tev/hwTmU5L/U/lnxkIIUFCMBYVPuS0lYVQIAp4dZ6D+o/gAOXJCR9wr+o0jl0Y4oPQKyleLO5sg5AQDSRAuQY6T/g6/q76hwIQODr+rvqHAhAAG8vjUpNxD9ANJEC5BjpPyi1Vnjc/+a/PHx5KNpzDkBQp5DoqkEHQAD6rnmlsuG/AFh9ykuSkj+w2Z9w8e70P2ysrBJmdQ1AxFsBnIJTAUB02cmKCL8SQJBQzOiegus/4DD9yZHz6T9oKTkILWH2v7RV3n2HlwRAcERV6Rfr4j+o3Kcd3wv6P0jqPJUVkf4/GOzV8kx0878sVSIosTsJQETXSI2MzPW/eCaT0RvT9z/IjBDsAHf2v4ieR8roUOu/mJRorMMH/j+InkfK6FDrv8iMEOwAd/a/pCMNxqHs/r/Q976DTovoP8DqkvGq69E/UGQxw7frEECYlGiswwf+P6CecP8Ls9+/VIhfKgIuCkBwg8SrFKEMQGRF2ANT4QJAcIPEqxShDEAAYJpkP5pgP/yTku0akwVAZEXYA1PhAkBc/ezAeJr7v+p1nfVHJRBAADN4YjxnCUBC6NGowq4cQLjPq8p7Pfo/CvpVk5OgCsCwvNuGHMbqPyKLXnrtExFAsGzOPbac4j8AbEYWLvqGv+BRpbmdjAxA4FGluZ2MDEDAKj8+VczAv1Q62atJ3Pm/MGz0WXhD/z+8/adZRfT3v7T6dx2g6gtA4H0Cw/190D/I12GtpcHxPzBs9Fl4Q/8//Lon0+SPBkBgq3ACWnjoP4DXvx9Mb8a/bFyCsuxGA0AAPSmWtnXDv7ArI3YBoQZASKg0mdGW+T/AoBnPn139P4BCXuAM880/mAobr8L1BUCg3wqzFSjWP4pQF/QGzxFAkE659CvI9T/+uspfUd0QQNgNZsMN2PI/wM8OpmNn/T+gpMcFpZbsP5Cq8ujozOM/aBAYMbU9+j+gpMcFpZbsP5DKOaE3Xe0/JmmaHi+3FkDY6jJhPEHxPxAiKLaXPP8/2Fr6qEOS/z8Qkw2uKCoDQGBR3TQvzPY/YFHdNC/M9j/Y+wyh3w33P+y6aM/tRg1A4JdIwM+z7D/QMEsj0LbyP9DUVfyauOg/IFWYPLYV4T/gsdfvNkPiPwAli01Lz6Y/RO3ewMMNAkCQnPvC7F/kv6CYOX4B7eS/RO3ewMMNAkDgsdfvNkPiP5Cc+8LsX+S/0G5nSBrNDEDQbmdIGs0MQNCSrVYYMf0/qAnndSvB/D/40bTiz3v9P5B6XfnoP/s/pPopkJy6BEBYK27FOa37P5jFHv2kQxRAzGXedOQ5EkBYK27FOa37P4jHdzW8qgFAMNd0ihgi/z8w13SKGCL/P6gmSgRrUfc/duTu+5UaEUCArxft04r5P1zvFOf7nANAsEDHRyzN47+AUeV8Qyf4P1jHHEkPCOq/oBAgvwgO1z+QI5clHKP0P2BueOkzcew/CG4xISBKAkCwQMdHLM3jv7BlFS7UnO6/4MrAM4in1D+IflmirYf0P0DGRPQgvdc/YCPWtfD1CkBgI9a18PUKQPi2GYqeOvs/QFidQUg2+j9AxkT0IL3XP4h+WaKth/Q/UHFqNGV/4L/qw8HvrYEUQGhLg3O5EQpAOE8tVeP28T+IaNjNrSwAQBDCMnSJKOM/WOzFRIblBUBMthOfz+sVQEC0GsxS5vI/YFV0jtJx778U2OUYLTgAQLI6N2tNoBBA4Ewek/Gj1z+wWhAy82f6v1jKGm0bzfE/yLTkzJHx8j9GilZuSCkKwEyeG8dRtBxATJ4bx1G0HECAGPUezp0HQJaMiu64FR1AgBj1Hs6dB0AGZLnWOdYSQMwoMeNb+A9AoJpiCWds6D/oBwgnnYvzP8AT8ACHctq/BmS51jnWEkDMKDHjW/gPQEDnT6KHps0/QOdPooemzT/AH6MeikX0P07CXnjoqQDASI2ol+RECUBOwl546KkAwPiwPBZKS/o/ML9zENGf/T+MBW39AswDQE4Dv/CgABFAeBDpzl7Q8j9gAkUcr6vgP+AAbspdm+A/9CNpZL2UAUBI8VO5TB4MQEjxU7lMHgxAAKhBQ4ypB0CUsmlHDgMLQBQRtdZ5iBFAWIcYIJOT6r88ybZPr38GQKzCQgpWrfK/HEgM3lsFCsCgbsYEKOr7P9AB2q8Cp+c/JEnkXO4Y/b/QAdqvAqfnP8gnmSaNzvo/oHBUmFtZ1L8MvElsLloCQIxusmKsOw1ApJHnbMjeCEAA5NKTMMW8v7R8n2qqexBAYM+4CiNy3798YdsCoFgSQJiIuIfBjOi/fGHbAqBYEkCAlqQjI8S4PwA7I67MUr+/QEDLUmzv+D/gRmUKxb3sP0yTnDsHngJA7PQSr7Mt/b+QiFLcZJPkP3JfdLXGJxJASHjCTu7X579QE5Ti9UXgv6Cke298CuQ/kGRBMgy39T+QZEEyDLf1P/CCYUheAghAjD0PCoIeBkD0HjYNlgsFQAA31bE4NsQ/AEQijsWynT/4KnBD9Kr0P4BReKi2a86/gN9LD3DI4b+A30sPcMjhv8Bi+c4VlcY/wGL5zhWVxj+g634b6TPQP1jNnsZIpua/oOt+G+kz0D+YTAoj+LT9P+C5ohNL+Nu/QPk+8vhE+j8A8x5MIBejv0C0oV5gU8Y/KNXpOY+j9T/AM2YY0wD0P0CAxr+akei/QPu+ZRdW4z8YlSk9QzD3PxjhLpAWG/I/GJUpPUMw9z8Y4S6QFhvyPxiVKT1DMPc/wMz/UjtE2D/wD9nCirHsv6DahO73Gt2/AJdvu4tq2T/AZ1/MoKTNPxBmyu/LYgBAGJC1lZZm+T9V+WD1xB0hQBDg918NeO8/AHA/PWkwtj/IXiAiCNL3PxBmyu/LYgBAYFjb97yqC0DYd+QA2JX4v1BmD5LYWO+/2HfkANiV+L8kNuQ5jqXwv/A3uKDDnfa/+CbDIK/u9T8IceV6fmYLQMCO95h7ofA/oNE+FGqp1L8Ys2hL3P4EQDArlwqQs/c/GLNoS9z+BEAkKmXQZpnxv7B0Ik97hOG/kLrLLKhm9z+wdCJPe4Thv3AUtpsHqAFAMC/kH/I56D9wFLabB6gBQABlE5+QkLY/AKT0jrb/3j9Qe9lyc2AFQLabvhH8YBJAIGKCfXYv1r9AzqAyu6DYP0Cfq9qzzt2/UHmJcM+7+T9An6vas87dv0xa+jtG4va/UHbbqF+e6j+QVh+ZwGTxv/DlHoBemuK/4KqFihYO6r+Q5t7l4wzmP8DXq6mqWcQ/UBS0F0D85z/gEPdg1+foP/BV6FoQ3QvADCDFcAHU978MIMVwAdT3vwAixC4lavM/QGB7uudUCEDY1nelfNMDQAwgxXAB1Pe/6LvbHQBq97+gghoH3Gfnv4Cl/wKjwsU/UO2na+Kz7D/83/1oL9X4v9DNpnNKM+m/gGEqU2IE5L+4c1ytBA3xP/g7SluvVAJAkHwbiXaa4z/AczMt3BDeP6DfOmZvVd+/MG27giQc+T9Yr7uUHBPwv6DfOmZvVd+/iHHfa/Pm6L9AsjmUZxTJv+hwXj08Zum/QLI5lGcUyb/Q9KbEdEHvPwCd/YQ7E+a/KL/aMjyN7L+wBaJfKl7vvxCHWGSnUeE/ANpcpSUFv7/QdvUvTCwCwNB29S9MLALAvHoHqi+T+L/g8YmgNzvwP6ApnCf8mt8/KBOQ6LCn87/wFojm7vPzvzC4DpzbZuy/qC4VHxcn6r+oLhUfFyfqvwAIges8oKW/EC//oJxx7T8gVQKnYdrkPwCT9vdF5tc/gJIX2wMF8D9GcTcWQ2EAwIAvyLvcpwpAlGOtMwkcBkBEYvR/cs/xv8CKL4/kQ8C/QOqrBSSO0T8Yt7Q4yG/zv0Ri9H9yz/G/AJsICiKstj8AmwgKIqy2PxDfR+iSSuK/AJsICiKstj8wf0FVjCXkv0CCNly/kOK/hlsg2fUSAcAAqOv5XfvcvwCo6/ld+9y/wM1MwHUl6D9QuKzEbWngP2DuOP7D5OE/gHC49oUNuj9g7jj+w+ThP8Bqns7/Ueg/oApkbCKp7T/ARO2ivtXcP0hOvgR2Zeu/mAfnmhiU8b+4413UNBfpv5gH55oYlPG/oPfb5ABy8D8wOQqW7ZHxP7gc4JtLuOq/MIkXtccc6r+ovN5qxGjyv0ydZtCQbvm/gKynQq3C+L8AAE6uBOeQP9h9xZW+H/K/iBe7H3Qc978U6aFWuBv/v5BW23H/ouY/FOmhVrgb/7/wuGGyNuPyv2iDmZDVXfU/aIOZkNVd9T+QRYWstXf5P5BFhay1d/k/wIzkSeKg2T8AsQ36UR/pv0CKqt/vgOQ/bDiZglu68r+AAHgE3pDpv2icx+LMLfc/WLZpRmtlAUAA1/HoriLgP+BfBwBi4us/OC3QHOSK8j84LdAc5IryPxCVy6Al9OC/gDTqzBEf1D+gRrdP6EcLwGB5aZatCOO/AH2uB3FFqL8AfFOdWK/Vv4D3hFCPks+/AHxTnViv1b/cC+We7iL0vzDvyva8B+m/MBHeY8p087/y02zEMUMRQBCNOeTPKwNA8EPSLOkf/b9ireQumfAQQBCNOeTPKwNAuPmun9iK9z8gZUt3xFMBQFx1mqRXRvK/cLHewLMu6D8EqcNRoW/5v6a6VYQXnwvAyBUmcdnv+7/IFSZx2e/7vywNbqa/lPS/jIOyEleM8r/Q4ig8fy7vv4yDshJXjPK/QPlk3dN7w7/c0UTC7nIDwFjv3Spz4/G/3NFEwu5yA8BYrI0Y95P+P3xY8oQ7dQlAgO1dyjpZyj9Q04EDpCrpvzCnxrqj9PK/MKfGuqP08r/oCSJb6jD2P3ZOPQWvJAPAiN71l1DNBEDwyy8S0Ez3vwyhn+0JbQRAUP3e7ELp979w3/AYsFv4P7pn7fK2yADAumft8rbIAMBg5JbOJCLyv7pn7fK2yADA9lKk2VaOAcBQ5WJUObbkP1DlYlQ5tuQ/AJOpJZQ/x7/IENHbQlDyP8gQ0dtCUPI/2PgVZEXR6L/IENHbQlDyPwDfqzsUFK6/nB3mXg0ECUAwWfb9kJT6v7DVBD5U0fG/tvt15gIHBcCIuB/KbY7tv2gn4wQnL/K/sNUEPlTR8b+0Nqp+dxPyv/CdGOIwAPm/UC38h965+L8wWfb9kJT6vwAFjxrsQ+S/4NO5YarW3b/UoMM0BSH1vzB8eyFtP++/QHAmFT9s2T+YSxBogSX8P+ByponB/9s/KNKf9ULF+L/g07lhqtbdv0CiuKWIl/I/vOgsQqjW8b9AcwSXc0rdP+BGaG+V/eG/QGBtVAVQyT+86CxCqNbxv0CiuKWIl/I/QFbydmD41j/gONAQvEjeP1D9hg8fpARAqF22jgH88r+MAtje9wIMQBgMZROaM++/TEv49jl/87+YbovY3+D3P0xL+PY5f/O/VJi3u7Wu8r/skD7RKEfwvwDY3FpDmnG/7JA+0ShH8L8A2NxaQ5pxv4B4S0R1CMa/gBWXVIUO2D8Ynz5hcmHrvxifPmFyYeu/IIV7lTZl378ghXuVNmXfv8CgQt5f7Os/bBShigmN87+w9kMpZGIDwPBl4dyTZeK/7LloKA/i978wxJ2sDSjwPwDMaIX4AQNAUPlIUEmK9z9IHhQ01tv2P+y5aCgP4ve/AGrxgdp1rr+G8WqYvZcLwPA313K76uE/gDcVSkEg0j+A66OcxkzRPwjZEYYMafA/gDcVSkEg0j+A66OcxkzRP/A313K76uE/ADN2Bjlnvz+Aogv7V/brPwAGLFbKHfs/gOnvJ2Wzyr8AM3YGOWe/P+CCzTe6+OA/pkCwgo1NAMAwfG4ejwDyv8BOPJapNeK/MHxuHo8A8r+mQLCCjU0AwMBVX03QQto/wFVfTdBC2j94lTD/GmkHQFCbnJJsx+q/emvWSlEzBMCI5QqG/PjxPxw1aJM/BAFAAH7cH01H/D94FAhPDo71P6BRtn6v7dM/+K361wAs+T+wTPObjbgBQCAxTJtuFdG/YIaieEp60z9ghqJ4SnrTP2CGonhKetM/IDFMm24V0b8ACl/SZfzSv+iLPTUWmfg/0LizPl3p6r+AHHLij7bBvyAiRetcvtY/kMUOhXcd7T8AvNZ8/qj6v3Ccipy0HOK/AHENZJreqz+MhC0GF1L5v7xVmYfqTv+/4AXD0PZU2z8AcQ1kmt6rPwAlHqWMJL8/MD21Q/gW4D9AxndeY1nAP6BpKZETMOs/KOcyIfxf+r8Q+edgA7H6PxD552ADsfo/yLWkQCf1+D/gi0QuFo/Rv6Aavu9n0PQ/YMnM4Fvc6r9gyczgW9zqv8D2XQDtsdU//HoZottA8L/QXuTu1CAJQAA1s5TjRd0/YGoSWljk6z8AHkIP7ITevwA1s5TjRd0/0F7k7tQgCUDkCaFEwljzv3BdlyWuCO4/TKOFXS0p8b/gfU9JGPnnvyiZTFlElfA/4H1PSRj5578s3SEWoaLwv3S+DOI45Pi/LN0hFqGi8L/AtvHm/mL6P7Cz94FaKeW/NlSQEm+eB8A2VJASb54HwIDDC7yPGLs/HjBF2JmWAsBospn1k8Xvv8AptG0ryPk/AF01NsHx4z94eBQZPJr9vwBAfklatse/eHgUGTya/b8AXTU2wfHjP4CoZ5WX7uI/YAVloCwJ6z+Yje1blxb3P0DpN3fBGMs/ADNkLx3b2D+4bpQ5fezqv4BEPauyvuy/8HpDIlXu5b8QKNDAJLv/P6B90h+JAts/ALFHP4iv3L8AsUc/iK/cv9ToeBqi7Pm/pOP28t+pBECk4/by36kEQLDsSfPHPvq/QCRmX4qH278IozRsTyfpv4Cp8lI2C9c/sDOVEfEn5b8sLQh2uu78vxBHhVrJFOK/CKM0bE8n6b9Qt2wvHPP1v5iipEEA4fO/AMD39oN9Yj/AxFjy3rjov0BHpcev/uE/gJZj7CoF+T/g9M2GTy3dv9gnFPrwCvK/CFzN52i4+T9QlrKHKQTiP0B/R5VBh/C/9NsePqdm+b9QlrKHKQTiPwhvSR2qbAhApLmq5V25+7+42znC7ff1v/DyzgaO7eK/aPcY8TlL878A344i2UTfPwA35cjfduI/aPcY8TlL878AuusKJQi2vzzgfGlFqwXAwJDQnfH6xr+gj9PYWtDbv6CP09ha0Nu/0J+psMRh6T8AZBIpbJG1v6C9LhiNDv0/0J+psMRh6T9wQ7p9TzQGQKANBa7mPN8/sDrsYdSu5L/wlMLkBn35P2BEAUZ1kd+/cC5SCbXf6L9g/6x3UoL7v9xRApuRiQNA3FECm5GJA0AAEbk8NginvyD5/OsWuuk/sPWpFxpf8D/QS0ya0PPsv4CYBd/R1s2/sPWpFxpf8D+oXVkz9xj0P+he7Y19gvI/2GCwv5i28T/YYLC/mLbxPwD5wgKu+/c/IFz444Ka9T9gfgw6ZM/3P5irnQ+ECe6/EAiqJBOw4z+Yq50PhAnuv+Dkv6eCQ/O/4EpqXy+q4z8At0Ejdtbiv2BAZPSj0whAYEBk9KPTCEBEvZU3NHoAQFChRC6TzeW/hLe1IkGG+L8gyp/vfoXmP8jIhroIke2/4FL/85Vz6j/IyIa6CJHtv0DrLmWeasq/cLGwZihT4r9A6y5lnmrKv4CGvQDuFrY/UFYTJdTR8L8oqmx7y4gCwFBWEyXU0fC/4Euoh+6t2r/QgtvOv+oBwOCHymOrNtu/YMD7GH3W4T8ANa1o6YzNvyiC0kZ7xgNAgI+CNHHx3r8yS7zpzWkGwIDFfBMeeOu/gOsQy5AWwz+KwI2Cqx4EwBzAri8Wq/S/HMCuLxar9L8cwK4vFqv0v9jot8neP/a/SPxXO2dNB8Agf3By9Evevyyt/kPCw/y/JIwj8d2nAMAU7grJUB8BQBA/i8bB4AHAIDTsNjGV0D+cSiYkP5IHwPj3LefD1vq/QI0xdeVP/T/8FGbkh7QDQIB6YqDX8dg/jF+7PZT1/L8ofcyb0dTwv8AmRJvYydG/gLiqmD0Vx78AqyDmYw7cv/Anw7Cvuvo/8CfDsK+6+j/ACYY5RvDMv0CKwNVG3c+/YPQkMojc6r8ATLG/RcWdP+TmYUyQM/m/ILKBQgxp9r+oMKOj4cjmvwDwz2+6kco/CGz5UbSr6r88SCOQRSoEQBB8z/cClui/6JBstzNW9D8AHPuubL/Nv3LWDXMjrAHAADzzSzx40L+Aw7lxwzDyP8QFYU+81/G/ADzzSzx40L9AjhbZ5sDhPyThDAOPBArALHrJ2K8U9b+gBOk/qTH5P9SVDvIOPgBAQOBGyLJwwT8Aq3Qh7ie+P2DNjGltR9I/YM2MaW1H0j8AJr12u46ZP8BrGIjVefI/gHei3peKxT9cGWHKkWf9v6hG6OChe+6/ALXDSnJA2z+YzYFMGxvxv/CEoXGYRO8/cP7680HS5b9w/vrzQdLlv7igBs+RBvS/sIc9E+jx7L9IZUhQHiX2v3atMLS+xAbAQApNLfwHzr9ACk0t/AfOv6DrjsbyXO0/NKMadJRxAkCAHJ17g9X7v7jdFq/hYv6/rOTfulsM+r9g/RoBiJDdv6zk37pbDPq/uN0Wr+Fi/r8AcYTfbASov5CaTGdx//E/giMYfxiAAMAAaOts+1/yvxYA9s3mQgHAiLYFy5VD97+WJrD0F7YAwGAdNyZwFNS/MOm01ZuS8L9wp8Oyjuzlv2AdNyZwFNS/MOm01ZuS8L/AWaklwxjmvwAcCbkADYI/2Dvn/2rVBUBQr8ZU+h7uv1CvxlT6Hu6/UK/GVPoe7r/4PbABqK32P1CvxlT6Hu6/wFKOLBrpAMDUVPHEsST7v4ixqvWVafq/1FTxxLEk+78Apj8kRMrsP0j83lQ8Afg/wOXoBGWL3D+gHiM4I3rkv0AoB9lIcMo/YCzmAECy2b8gPfVVCCzgPySr2CtCQwJAJKvYK0JDAkAAGfn59wGnPyDBHpqCr/0/oMNWPi/zD0AwHqztndLrPwDOQEHGQ76/gLvFUSyZ1j/kFv3mOLAKwLAXsvffvui/gF4+qJjI4r8ArAL/ZKCiP7AXsvffvui/2Hel3j7p+T8ophkkdsb2v+BaEkS6LNQ/EGP9bMTF6r8ophkkdsb2v6CRhMAde9i/QDHLUOTo979ga3ELGQvkv6B9K0yC/Pk/YFFHSw503T8A/29X/mXNv8AYLbB7yvw/rOghZltf8r+wXi9efq/yv6zoIWZbX/K/7Ka5eDz79L+MyAy4rTzxv4zIDLitPPG/kOGWFhg45r8o1iTQNmH5vzhMOzB9jO2/8JiSWMw65b+oe4Y1AVoAwGBXRXSE8Ny/yFFl0Cfo5r9UG9CUYhv3v1Qb0JRiG/e/QAUdMpZPxT942HQSDrMBwAh2C0fQ2fs/gD31n2Gy1r9ARm2hDMjBP8DEfei/1PG/wMR96L/U8b8wUIbbw3f+P6xS9KQWpPW/ZtSrXUOLBcDm5oWtEgULwNwFRVHL8fG/TqRfYxUuA8DgjWn3MBLiv2AWA4VbNuO/QChE6+Rm2r+Acl1eA47rP/R/oSo+KPq/QChE6+Rm2r+4jdBtZFnwP9gci2hDavG/2ByLaENq8b8grZqXe/HlvwD36DiiH9w/TCjzhAlm9b9MlU6avo0FQDyK5QfdovK/YO1tAFYA5b8APoHEKYzmvwA+gcQpjOa/rOXnzJLp8b8ABHU260Ozv1B1CyDseAPAkA43AAC2878ABHU260Ozv8CLUN1cpd+/wItQ3Vyl379ENXLXq9fzvy7JleMIpgfAcNucyE/N87+abSm75HEJwERYKLQM7fq/AMwthUO+2j8AsLsHPQHWv+A8oXNNdeW/wD7HN7CJ67+of2S7gKH1P7D/sHGvePO/qH9ku4Ch9T9U6p5e+hT2v8A+xzewieu/ZO+Fbte9+79wgmQmYcPiv5g8X8w1sfO/ePfKRBIH8r8IW4jKZg7tv/ji5FubLQrA2C+zd4ih9D8IW4jKZg7tvxB4zl/XQOU/uEr2BcAB8z9MVVyX1DgNwKDLSyg7rNc/sPcmtpv35j98wriMg2P7v3zCuIyDY/u/fMK4jINj+798wriMg2P7v8xyWzeXBwDAqDExkLJD77+oMTGQskPvv0DqO9zSkME/gOWGBExe0r/wl87yRqrhP3yJ4+pTrPe/FPaml+f7+r8ayew6O3YEwBrJ7Do7dgTAGsnsOjt2BMA0OAL3efrwvzQ4Avd5+vC/NDgC93n68L/IEFTpYkzsvzQ4Avd5+vC/8BmzQqoGB0AAvqMLT7rPvzIYpQJJPwTAnFdXG/o497+cV1cb+jj3v6RT8kBuC/S/4EZg/7Fn6D+IniP+63b1vzBQLvRxP++/MFAu9HE/7780WbrJqnP1vyQfg2R5bwTA/CBBJHORBMCg65I6m4npv1CMHA4BuuI/cE6jgo91BUBget1tWRjkP8BqPg9QvcK/cE6jgo91BUBwf0fnTSjlv+R5OzmZf/a/UB/OT5fj5r8ALDGfk7z1vyyrVVc3sPm/AGS/aYE12r8suZZPS9sBwIDa7YZXjLI/mIwu8QZn6b+A2u2GV4yyP4ACsGGJ6bQ/3NgJnUep/78ot6m465f1v7DaVxh6HeS/FCIO4DbhB8CEu53rK4T0v3g4Rcx7meu/eDhFzHuZ6790kf0mGo7+v2COpCupRdW/YI6kK6lF1b+crFMlyHH1v2ALyPcAttA/bJh7PFjx879smHs8WPHzv+DK6u99Meu/jBtsuHIZ9b+SEX9pd+8CwAAInHul2+O/fNUYX2GU+7+AVbea3Evcv+gi9Lc+GvS/gBNpaxtzx78A+v9Vk7fAvzRsHGLt4vK/6OLuALAi9b+M/WIByJX0v2BCVcycYNO/YEJVzJxg079cfBEBpXvwvzCZ4YMtZvW/gCE7MvVS1r8AZqk7O73jv9ChH1xsHeA/jCo9TdPs/b8AihxYD5G7P4wqPU3T7P2/XMazrbfeAMAwfbVUD7L/v9ChH1xsHeA/KI1K7TWJ8z+gnw6OWtz0P9okQ0PJkQPAoJ8Ojlrc9D8gQaoBsbPqv8SpkHQ6V/C/QHfHvhmW3r/EqZB0Olfwv0jlUbUN5Oy/iNhM6bmy7r9A54zPq9P5vyBd6ga6xNm/IF3qBrrE2b/wJYZHPknmv3jmgFbF0+2/4EXlERN14b+A3vA2cmq/v/CHQVq/WPG/QKG7BWID67+a7F20OrEGwCZ0P5CpdALA6CXapnT2GEDoJdqmdPYYQDB79R6rCPk/CMxuUrAI7b9QHhEbLXT8v/A7UeaklOq/VHqiInxc8r+Aa5JizpCwv6Aw5ezjOvi/IF9KNCTq/L/QHzMeop7qv4CKoSG44LC/oDDl7OM6+L+UlqmsU5n4v2iGWUc9gvG/bG9P6lJd8b9UeqIifFzyv6Byql6ggd+/tPP56KGS9b9ABlPoEHTlv3THPTU6DQhAfudJxSgeAcAEj2oKmhwAwEAGU+gQdOW/YGY1Dp/H1L+Y9wNLb3Lnv4jMCEivpPi/pI1ZObR/A8DEWW6YMpT4vyRmPXY3+/a//PnSd9DC9b/8+dJ30ML1v0AkjR9yG+a/OEdrq4Ir+79AJI0fchvmv/DGdm6e9/K/CGhEX6si8j9ghDUv8pn3v2B1SU41x9+/BFAOST6EA8BqgMmHLFQVQAaQi/+rcAjAaoDJhyxUFUD+CIRNK3MIwDD0pEdZAea/AIyYLGXyuL+cOK2/3WwJwACMmCxl8ri/yBfyaqLj978gBwFPjnLmv3ipnGdYXv+/rLEnmv69+L88zBhCX7v7v3adXuE6kgTA0IRr5jYECcDiUlo/HtICwGSrjPlTd/i/0IRr5jYECcB+W+7w1qkEwCjFxweaqOe/wqXAeEJ1AMDgzryPpu/2vyjFxweaqOe/pIDgJQDR+b/oPWehNhH+v6SA4CUA0fm/ZA2rE5ey87+AuWtp4aC1P8zEYv07FvG/FHi8DRWGAcBYMxPK51jwvxxqXPSk0QDAdOrBuk6f/L9YMxPK51jwvyS/n2KkH/O/mI7V2nWx6b/UVNLqrtr6v2QrYKbS+vO/SB3ZbgwGAMBequ9uLSwAwDB4ViVZR+y/KGpHwVdM7L8m/gEEKLsAwFiGfbfRtfm/rNmWHS5o8r9oe+gyJSb7v1iGfbfRtfm/WPZVjAFj+78m/gEEKLsAwCzLxlnVRfa/yESRo2igAcBMixiakjX6v4yGqkd9L/e/YIX01ktX9r8gg4eKPjDWv3AuHPGXXui/yGghjVrd/b94vh4TIyYBwHiVJZYCzPG/gGHES+vrx79wwYvi5xT7vzCQADruKPW/yiN/smULAcAiWEWxcdcGwHJGtaYEPQHAsGWikcM87r+YyMCa1/r5v2g/5xtnvOq/kIJFQGt597+skNEUxp8EQACbo0hek6Y/NFoM4Oco/r/AgWfdCbr2v/I+isaxAgPAfB2yibQbBUBoY/XRUi/tv/zpzUNrnvO/LNO2omg9879YtoODaSn1v9gWYpAGpfC/AN/1l6tX+7/AMPcknbn2v1QpwySehf2/AN/1l6tX+79gTKD+UDLoP2ANIFkXpty/YA0gWRem3L9gDSBZF6bcv3RejId+AfW/dF6Mh34B9b90XoyHfgH1vzB22untg/i/SP3IBeGe9790XoyHfgH1vzC3MxV/ffW/5JUQun3oAcAQAvCfx/D9v+CPL6fl7f6/6FSRrAkH6L+22lVQWrsCwJDEoUN6neg/qAYISuMf7r/QYJ6biSHgvyjRZVEmQ/a/sL+3qs5n+7/awVL9ZWsBwJiYF9dJ6fC/2sFS/WVrAcCcuh8jBxoCwPA4llpIJ/6/SB2VniZu9b+odsdjqojtv8A+ehoIut2/1tcpAHyIBMAw0LhTSnLqv4AXHz0bC7I/qCQNmykV/7/U3T5zu2sIwLRd1rRpt/u/1AMl/yVo9b+ArfXjqZj+v2AMqtCEff+/tF3WtGm3+78exjR1NIQBwPTgY1/Rev2/",
          "dtype": "f8"
         }
        }
       ],
       "layout": {
        "coloraxis": {
         "colorbar": {
          "title": {
           "text": "color"
          }
         },
         "colorscale": [
          [
           0,
           "#0d0887"
          ],
          [
           0.1111111111111111,
           "#46039f"
          ],
          [
           0.2222222222222222,
           "#7201a8"
          ],
          [
           0.3333333333333333,
           "#9c179e"
          ],
          [
           0.4444444444444444,
           "#bd3786"
          ],
          [
           0.5555555555555556,
           "#d8576b"
          ],
          [
           0.6666666666666666,
           "#ed7953"
          ],
          [
           0.7777777777777778,
           "#fb9f3a"
          ],
          [
           0.8888888888888888,
           "#fdca26"
          ],
          [
           1,
           "#f0f921"
          ]
         ]
        },
        "legend": {
         "tracegroupgap": 0
        },
        "scene": {
         "domain": {
          "x": [
           0,
           1
          ],
          "y": [
           0,
           1
          ]
         },
         "xaxis": {
          "title": {
           "text": "PC1"
          }
         },
         "yaxis": {
          "title": {
           "text": "PC2"
          }
         },
         "zaxis": {
          "title": {
           "text": "PC3"
          }
         }
        },
        "template": {
         "data": {
          "bar": [
           {
            "error_x": {
             "color": "#2a3f5f"
            },
            "error_y": {
             "color": "#2a3f5f"
            },
            "marker": {
             "line": {
              "color": "#E5ECF6",
              "width": 0.5
             },
             "pattern": {
              "fillmode": "overlay",
              "size": 10,
              "solidity": 0.2
             }
            },
            "type": "bar"
           }
          ],
          "barpolar": [
           {
            "marker": {
             "line": {
              "color": "#E5ECF6",
              "width": 0.5
             },
             "pattern": {
              "fillmode": "overlay",
              "size": 10,
              "solidity": 0.2
             }
            },
            "type": "barpolar"
           }
          ],
          "carpet": [
           {
            "aaxis": {
             "endlinecolor": "#2a3f5f",
             "gridcolor": "white",
             "linecolor": "white",
             "minorgridcolor": "white",
             "startlinecolor": "#2a3f5f"
            },
            "baxis": {
             "endlinecolor": "#2a3f5f",
             "gridcolor": "white",
             "linecolor": "white",
             "minorgridcolor": "white",
             "startlinecolor": "#2a3f5f"
            },
            "type": "carpet"
           }
          ],
          "choropleth": [
           {
            "colorbar": {
             "outlinewidth": 0,
             "ticks": ""
            },
            "type": "choropleth"
           }
          ],
          "contour": [
           {
            "colorbar": {
             "outlinewidth": 0,
             "ticks": ""
            },
            "colorscale": [
             [
              0,
              "#0d0887"
             ],
             [
              0.1111111111111111,
              "#46039f"
             ],
             [
              0.2222222222222222,
              "#7201a8"
             ],
             [
              0.3333333333333333,
              "#9c179e"
             ],
             [
              0.4444444444444444,
              "#bd3786"
             ],
             [
              0.5555555555555556,
              "#d8576b"
             ],
             [
              0.6666666666666666,
              "#ed7953"
             ],
             [
              0.7777777777777778,
              "#fb9f3a"
             ],
             [
              0.8888888888888888,
              "#fdca26"
             ],
             [
              1,
              "#f0f921"
             ]
            ],
            "type": "contour"
           }
          ],
          "contourcarpet": [
           {
            "colorbar": {
             "outlinewidth": 0,
             "ticks": ""
            },
            "type": "contourcarpet"
           }
          ],
          "heatmap": [
           {
            "colorbar": {
             "outlinewidth": 0,
             "ticks": ""
            },
            "colorscale": [
             [
              0,
              "#0d0887"
             ],
             [
              0.1111111111111111,
              "#46039f"
             ],
             [
              0.2222222222222222,
              "#7201a8"
             ],
             [
              0.3333333333333333,
              "#9c179e"
             ],
             [
              0.4444444444444444,
              "#bd3786"
             ],
             [
              0.5555555555555556,
              "#d8576b"
             ],
             [
              0.6666666666666666,
              "#ed7953"
             ],
             [
              0.7777777777777778,
              "#fb9f3a"
             ],
             [
              0.8888888888888888,
              "#fdca26"
             ],
             [
              1,
              "#f0f921"
             ]
            ],
            "type": "heatmap"
           }
          ],
          "histogram": [
           {
            "marker": {
             "pattern": {
              "fillmode": "overlay",
              "size": 10,
              "solidity": 0.2
             }
            },
            "type": "histogram"
           }
          ],
          "histogram2d": [
           {
            "colorbar": {
             "outlinewidth": 0,
             "ticks": ""
            },
            "colorscale": [
             [
              0,
              "#0d0887"
             ],
             [
              0.1111111111111111,
              "#46039f"
             ],
             [
              0.2222222222222222,
              "#7201a8"
             ],
             [
              0.3333333333333333,
              "#9c179e"
             ],
             [
              0.4444444444444444,
              "#bd3786"
             ],
             [
              0.5555555555555556,
              "#d8576b"
             ],
             [
              0.6666666666666666,
              "#ed7953"
             ],
             [
              0.7777777777777778,
              "#fb9f3a"
             ],
             [
              0.8888888888888888,
              "#fdca26"
             ],
             [
              1,
              "#f0f921"
             ]
            ],
            "type": "histogram2d"
           }
          ],
          "histogram2dcontour": [
           {
            "colorbar": {
             "outlinewidth": 0,
             "ticks": ""
            },
            "colorscale": [
             [
              0,
              "#0d0887"
             ],
             [
              0.1111111111111111,
              "#46039f"
             ],
             [
              0.2222222222222222,
              "#7201a8"
             ],
             [
              0.3333333333333333,
              "#9c179e"
             ],
             [
              0.4444444444444444,
              "#bd3786"
             ],
             [
              0.5555555555555556,
              "#d8576b"
             ],
             [
              0.6666666666666666,
              "#ed7953"
             ],
             [
              0.7777777777777778,
              "#fb9f3a"
             ],
             [
              0.8888888888888888,
              "#fdca26"
             ],
             [
              1,
              "#f0f921"
             ]
            ],
            "type": "histogram2dcontour"
           }
          ],
          "mesh3d": [
           {
            "colorbar": {
             "outlinewidth": 0,
             "ticks": ""
            },
            "type": "mesh3d"
           }
          ],
          "parcoords": [
           {
            "line": {
             "colorbar": {
              "outlinewidth": 0,
              "ticks": ""
             }
            },
            "type": "parcoords"
           }
          ],
          "pie": [
           {
            "automargin": true,
            "type": "pie"
           }
          ],
          "scatter": [
           {
            "fillpattern": {
             "fillmode": "overlay",
             "size": 10,
             "solidity": 0.2
            },
            "type": "scatter"
           }
          ],
          "scatter3d": [
           {
            "line": {
             "colorbar": {
              "outlinewidth": 0,
              "ticks": ""
             }
            },
            "marker": {
             "colorbar": {
              "outlinewidth": 0,
              "ticks": ""
             }
            },
            "type": "scatter3d"
           }
          ],
          "scattercarpet": [
           {
            "marker": {
             "colorbar": {
              "outlinewidth": 0,
              "ticks": ""
             }
            },
            "type": "scattercarpet"
           }
          ],
          "scattergeo": [
           {
            "marker": {
             "colorbar": {
              "outlinewidth": 0,
              "ticks": ""
             }
            },
            "type": "scattergeo"
           }
          ],
          "scattergl": [
           {
            "marker": {
             "colorbar": {
              "outlinewidth": 0,
              "ticks": ""
             }
            },
            "type": "scattergl"
           }
          ],
          "scattermap": [
           {
            "marker": {
             "colorbar": {
              "outlinewidth": 0,
              "ticks": ""
             }
            },
            "type": "scattermap"
           }
          ],
          "scattermapbox": [
           {
            "marker": {
             "colorbar": {
              "outlinewidth": 0,
              "ticks": ""
             }
            },
            "type": "scattermapbox"
           }
          ],
          "scatterpolar": [
           {
            "marker": {
             "colorbar": {
              "outlinewidth": 0,
              "ticks": ""
             }
            },
            "type": "scatterpolar"
           }
          ],
          "scatterpolargl": [
           {
            "marker": {
             "colorbar": {
              "outlinewidth": 0,
              "ticks": ""
             }
            },
            "type": "scatterpolargl"
           }
          ],
          "scatterternary": [
           {
            "marker": {
             "colorbar": {
              "outlinewidth": 0,
              "ticks": ""
             }
            },
            "type": "scatterternary"
           }
          ],
          "surface": [
           {
            "colorbar": {
             "outlinewidth": 0,
             "ticks": ""
            },
            "colorscale": [
             [
              0,
              "#0d0887"
             ],
             [
              0.1111111111111111,
              "#46039f"
             ],
             [
              0.2222222222222222,
              "#7201a8"
             ],
             [
              0.3333333333333333,
              "#9c179e"
             ],
             [
              0.4444444444444444,
              "#bd3786"
             ],
             [
              0.5555555555555556,
              "#d8576b"
             ],
             [
              0.6666666666666666,
              "#ed7953"
             ],
             [
              0.7777777777777778,
              "#fb9f3a"
             ],
             [
              0.8888888888888888,
              "#fdca26"
             ],
             [
              1,
              "#f0f921"
             ]
            ],
            "type": "surface"
           }
          ],
          "table": [
           {
            "cells": {
             "fill": {
              "color": "#EBF0F8"
             },
             "line": {
              "color": "white"
             }
            },
            "header": {
             "fill": {
              "color": "#C8D4E3"
             },
             "line": {
              "color": "white"
             }
            },
            "type": "table"
           }
          ]
         },
         "layout": {
          "annotationdefaults": {
           "arrowcolor": "#2a3f5f",
           "arrowhead": 0,
           "arrowwidth": 1
          },
          "autotypenumbers": "strict",
          "coloraxis": {
           "colorbar": {
            "outlinewidth": 0,
            "ticks": ""
           }
          },
          "colorscale": {
           "diverging": [
            [
             0,
             "#8e0152"
            ],
            [
             0.1,
             "#c51b7d"
            ],
            [
             0.2,
             "#de77ae"
            ],
            [
             0.3,
             "#f1b6da"
            ],
            [
             0.4,
             "#fde0ef"
            ],
            [
             0.5,
             "#f7f7f7"
            ],
            [
             0.6,
             "#e6f5d0"
            ],
            [
             0.7,
             "#b8e186"
            ],
            [
             0.8,
             "#7fbc41"
            ],
            [
             0.9,
             "#4d9221"
            ],
            [
             1,
             "#276419"
            ]
           ],
           "sequential": [
            [
             0,
             "#0d0887"
            ],
            [
             0.1111111111111111,
             "#46039f"
            ],
            [
             0.2222222222222222,
             "#7201a8"
            ],
            [
             0.3333333333333333,
             "#9c179e"
            ],
            [
             0.4444444444444444,
             "#bd3786"
            ],
            [
             0.5555555555555556,
             "#d8576b"
            ],
            [
             0.6666666666666666,
             "#ed7953"
            ],
            [
             0.7777777777777778,
             "#fb9f3a"
            ],
            [
             0.8888888888888888,
             "#fdca26"
            ],
            [
             1,
             "#f0f921"
            ]
           ],
           "sequentialminus": [
            [
             0,
             "#0d0887"
            ],
            [
             0.1111111111111111,
             "#46039f"
            ],
            [
             0.2222222222222222,
             "#7201a8"
            ],
            [
             0.3333333333333333,
             "#9c179e"
            ],
            [
             0.4444444444444444,
             "#bd3786"
            ],
            [
             0.5555555555555556,
             "#d8576b"
            ],
            [
             0.6666666666666666,
             "#ed7953"
            ],
            [
             0.7777777777777778,
             "#fb9f3a"
            ],
            [
             0.8888888888888888,
             "#fdca26"
            ],
            [
             1,
             "#f0f921"
            ]
           ]
          },
          "colorway": [
           "#636efa",
           "#EF553B",
           "#00cc96",
           "#ab63fa",
           "#FFA15A",
           "#19d3f3",
           "#FF6692",
           "#B6E880",
           "#FF97FF",
           "#FECB52"
          ],
          "font": {
           "color": "#2a3f5f"
          },
          "geo": {
           "bgcolor": "white",
           "lakecolor": "white",
           "landcolor": "#E5ECF6",
           "showlakes": true,
           "showland": true,
           "subunitcolor": "white"
          },
          "hoverlabel": {
           "align": "left"
          },
          "hovermode": "closest",
          "mapbox": {
           "style": "light"
          },
          "paper_bgcolor": "white",
          "plot_bgcolor": "#E5ECF6",
          "polar": {
           "angularaxis": {
            "gridcolor": "white",
            "linecolor": "white",
            "ticks": ""
           },
           "bgcolor": "#E5ECF6",
           "radialaxis": {
            "gridcolor": "white",
            "linecolor": "white",
            "ticks": ""
           }
          },
          "scene": {
           "xaxis": {
            "backgroundcolor": "#E5ECF6",
            "gridcolor": "white",
            "gridwidth": 2,
            "linecolor": "white",
            "showbackground": true,
            "ticks": "",
            "zerolinecolor": "white"
           },
           "yaxis": {
            "backgroundcolor": "#E5ECF6",
            "gridcolor": "white",
            "gridwidth": 2,
            "linecolor": "white",
            "showbackground": true,
            "ticks": "",
            "zerolinecolor": "white"
           },
           "zaxis": {
            "backgroundcolor": "#E5ECF6",
            "gridcolor": "white",
            "gridwidth": 2,
            "linecolor": "white",
            "showbackground": true,
            "ticks": "",
            "zerolinecolor": "white"
           }
          },
          "shapedefaults": {
           "line": {
            "color": "#2a3f5f"
           }
          },
          "ternary": {
           "aaxis": {
            "gridcolor": "white",
            "linecolor": "white",
            "ticks": ""
           },
           "baxis": {
            "gridcolor": "white",
            "linecolor": "white",
            "ticks": ""
           },
           "bgcolor": "#E5ECF6",
           "caxis": {
            "gridcolor": "white",
            "linecolor": "white",
            "ticks": ""
           }
          },
          "title": {
           "x": 0.05
          },
          "xaxis": {
           "automargin": true,
           "gridcolor": "white",
           "linecolor": "white",
           "ticks": "",
           "title": {
            "standoff": 15
           },
           "zerolinecolor": "white",
           "zerolinewidth": 2
          },
          "yaxis": {
           "automargin": true,
           "gridcolor": "white",
           "linecolor": "white",
           "ticks": "",
           "title": {
            "standoff": 15
           },
           "zerolinecolor": "white",
           "zerolinewidth": 2
          }
         }
        },
        "title": {
         "text": "Projection 3D PCA"
        }
       }
      },
      "image/png": "[encoded data removed]"
     },
     "metadata": {},
     "output_type": "display_data"
    }
   ],
   "source": [
    "import pandas as pd\n",
    "import plotly.express as px\n",
    "from sklearn.decomposition import PCA\n",
    "\n",
    "# Supposons que X est ton DataFrame de données brutes (features)\n",
    "pca = PCA(n_components=3)\n",
    "X_pca = pca.fit_transform(df_red)\n",
    "\n",
    "PCA_full = pd.DataFrame(X_pca, columns=['PC1', 'PC2', 'PC3'])\n",
    "\n",
    "# Maintenant, tracer avec la couleur Quality venant de DF_red\n",
    "fig = px.scatter_3d(\n",
    "    PCA_full,\n",
    "    x='PC1',\n",
    "    y='PC2',\n",
    "    z='PC3',\n",
    "    color=df_red['quality'],  # couleur selon qualité\n",
    "    title='Projection 3D PCA'\n",
    ")\n",
    "\n",
    "fig.update_traces(marker=dict(size=1))\n",
    "fig.show()\n"
   ]
  },
  {
   "cell_type": "code",
   "execution_count": 40,
   "id": "76851987-7ce1-4580-9d26-fffae18839b8",
   "metadata": {},
   "outputs": [
    {
     "data": {
      "text/html": [
       "<div>\n",
       "<style scoped>\n",
       "    .dataframe tbody tr th:only-of-type {\n",
       "        vertical-align: middle;\n",
       "    }\n",
       "\n",
       "    .dataframe tbody tr th {\n",
       "        vertical-align: top;\n",
       "    }\n",
       "\n",
       "    .dataframe thead th {\n",
       "        text-align: right;\n",
       "    }\n",
       "</style>\n",
       "<table border=\"1\" class=\"dataframe\">\n",
       "  <thead>\n",
       "    <tr style=\"text-align: right;\">\n",
       "      <th></th>\n",
       "      <th>fixed acidity</th>\n",
       "      <th>volatile acidity</th>\n",
       "      <th>citric acid</th>\n",
       "      <th>residual sugar</th>\n",
       "      <th>chlorides</th>\n",
       "      <th>free sulfur dioxide</th>\n",
       "      <th>total sulfur dioxide</th>\n",
       "      <th>density</th>\n",
       "      <th>pH</th>\n",
       "      <th>sulphates</th>\n",
       "      <th>alcohol</th>\n",
       "      <th>quality</th>\n",
       "    </tr>\n",
       "  </thead>\n",
       "  <tbody>\n",
       "    <tr>\n",
       "      <th>0</th>\n",
       "      <td>7.0</td>\n",
       "      <td>0.27</td>\n",
       "      <td>0.36</td>\n",
       "      <td>20.7</td>\n",
       "      <td>0.045</td>\n",
       "      <td>45.0</td>\n",
       "      <td>170.0</td>\n",
       "      <td>1.0010</td>\n",
       "      <td>3.00</td>\n",
       "      <td>0.45</td>\n",
       "      <td>8.8</td>\n",
       "      <td>6</td>\n",
       "    </tr>\n",
       "    <tr>\n",
       "      <th>1</th>\n",
       "      <td>6.3</td>\n",
       "      <td>0.30</td>\n",
       "      <td>0.34</td>\n",
       "      <td>1.6</td>\n",
       "      <td>0.049</td>\n",
       "      <td>14.0</td>\n",
       "      <td>132.0</td>\n",
       "      <td>0.9940</td>\n",
       "      <td>3.30</td>\n",
       "      <td>0.49</td>\n",
       "      <td>9.5</td>\n",
       "      <td>6</td>\n",
       "    </tr>\n",
       "    <tr>\n",
       "      <th>2</th>\n",
       "      <td>8.1</td>\n",
       "      <td>0.28</td>\n",
       "      <td>0.40</td>\n",
       "      <td>6.9</td>\n",
       "      <td>0.050</td>\n",
       "      <td>30.0</td>\n",
       "      <td>97.0</td>\n",
       "      <td>0.9951</td>\n",
       "      <td>3.26</td>\n",
       "      <td>0.44</td>\n",
       "      <td>10.1</td>\n",
       "      <td>6</td>\n",
       "    </tr>\n",
       "    <tr>\n",
       "      <th>3</th>\n",
       "      <td>7.2</td>\n",
       "      <td>0.23</td>\n",
       "      <td>0.32</td>\n",
       "      <td>8.5</td>\n",
       "      <td>0.058</td>\n",
       "      <td>47.0</td>\n",
       "      <td>186.0</td>\n",
       "      <td>0.9956</td>\n",
       "      <td>3.19</td>\n",
       "      <td>0.40</td>\n",
       "      <td>9.9</td>\n",
       "      <td>6</td>\n",
       "    </tr>\n",
       "    <tr>\n",
       "      <th>4</th>\n",
       "      <td>7.2</td>\n",
       "      <td>0.23</td>\n",
       "      <td>0.32</td>\n",
       "      <td>8.5</td>\n",
       "      <td>0.058</td>\n",
       "      <td>47.0</td>\n",
       "      <td>186.0</td>\n",
       "      <td>0.9956</td>\n",
       "      <td>3.19</td>\n",
       "      <td>0.40</td>\n",
       "      <td>9.9</td>\n",
       "      <td>6</td>\n",
       "    </tr>\n",
       "  </tbody>\n",
       "</table>\n",
       "</div>"
      ],
      "text/plain": [
       "   fixed acidity  volatile acidity  citric acid  residual sugar  chlorides  \\\n",
       "0            7.0              0.27         0.36            20.7      0.045   \n",
       "1            6.3              0.30         0.34             1.6      0.049   \n",
       "2            8.1              0.28         0.40             6.9      0.050   \n",
       "3            7.2              0.23         0.32             8.5      0.058   \n",
       "4            7.2              0.23         0.32             8.5      0.058   \n",
       "\n",
       "   free sulfur dioxide  total sulfur dioxide  density    pH  sulphates  \\\n",
       "0                 45.0                 170.0   1.0010  3.00       0.45   \n",
       "1                 14.0                 132.0   0.9940  3.30       0.49   \n",
       "2                 30.0                  97.0   0.9951  3.26       0.44   \n",
       "3                 47.0                 186.0   0.9956  3.19       0.40   \n",
       "4                 47.0                 186.0   0.9956  3.19       0.40   \n",
       "\n",
       "   alcohol  quality  \n",
       "0      8.8        6  \n",
       "1      9.5        6  \n",
       "2     10.1        6  \n",
       "3      9.9        6  \n",
       "4      9.9        6  "
      ]
     },
     "execution_count": 40,
     "metadata": {},
     "output_type": "execute_result"
    }
   ],
   "source": [
    "df_white = pd.read_csv(\"winequality-white.csv\", encoding='latin-1', sep=\";\")\n",
    "df_white_copy = df_red.copy()\n",
    "df_white.head()"
   ]
  },
  {
   "cell_type": "code",
   "execution_count": 43,
   "id": "37170293-9bd4-4274-ae50-5333cae7166a",
   "metadata": {},
   "outputs": [
    {
     "data": {
      "image/png": "[encoded data removed]",
      "text/plain": [
       "<Figure size 800x500 with 1 Axes>"
      ]
     },
     "metadata": {},
     "output_type": "display_data"
    }
   ],
   "source": [
    "# --- 1. Standardisation des données ---\n",
    "X_scaled = StandardScaler().fit_transform(df_white) \n",
    "\n",
    "pca_full = PCA().fit(X_scaled)\n",
    "explained_variance = pca_full.explained_variance_ratio_\n",
    "\n",
    "# --- Calcul de la variance expliquée cumulée ---\n",
    "cumulative_variance = np.cumsum(explained_variance)\n",
    "\n",
    "# Ajouter un point 0 au début pour que l'axe des X commence à 0\n",
    "cumulative_variance = np.insert(cumulative_variance, 0, 0)\n",
    "\n",
    "# --- Graphique ---\n",
    "plt.figure(figsize=(8, 5))\n",
    "\n",
    "# Tracer la ligne sans points\n",
    "plt.plot(np.arange(0, len(cumulative_variance)), cumulative_variance, linestyle='--', color='b', zorder=1)\n",
    "\n",
    "# Ajouter des points uniquement pour les composantes supérieures à 0 (points au-dessus de la ligne)\n",
    "plt.scatter(np.arange(1, len(cumulative_variance)), cumulative_variance[1:], color='b', zorder=2)\n",
    "\n",
    "# Changer les ticks pour commencer à 1 sur l'axe des X\n",
    "plt.xticks(np.arange(1, len(explained_variance) + 1, step=1))\n",
    "\n",
    "# Ajuster les limites de l'axe Y pour qu'il commence bien à 0\n",
    "plt.ylim(bottom=0)\n",
    "\n",
    "# Ajuster aussi l'axe X pour commencer à 0\n",
    "plt.xlim(left=0)\n",
    "\n",
    "plt.xlabel('Nombre de composantes principales')\n",
    "plt.ylabel('Variance expliquée cumulée')\n",
    "plt.title('Scree plot (Éboulis des valeurs propres)')\n",
    "plt.grid(True)\n",
    "plt.axhline(y=0.8, color='r', linestyle='--', label='80% de variance')\n",
    "plt.legend()\n",
    "plt.tight_layout()\n",
    "plt.show()\n"
   ]
  },
  {
   "cell_type": "code",
   "execution_count": null,
   "id": "3c26a6e8-b787-463b-89c0-f55b89f66a2f",
   "metadata": {},
   "outputs": [],
   "source": []
  }
 ],
 "metadata": {
  "kernelspec": {
   "display_name": "Python 3 (ipykernel)",
   "language": "python",
   "name": "python3"
  },
  "language_info": {
   "codemirror_mode": {
    "name": "ipython",
    "version": 3
   },
   "file_extension": ".py",
   "mimetype": "text/x-python",
   "name": "python",
   "nbconvert_exporter": "python",
   "pygments_lexer": "ipython3",
   "version": "3.12.6"
  }
 },
 "nbformat": 4,
 "nbformat_minor": 5
}
